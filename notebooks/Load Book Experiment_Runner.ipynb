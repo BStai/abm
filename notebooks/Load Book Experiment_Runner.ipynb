{
 "cells": [
  {
   "cell_type": "code",
   "execution_count": 16,
   "id": "e90afbcc-3aa6-4ec1-9c44-5c3418448e0e",
   "metadata": {},
   "outputs": [
    {
     "name": "stdout",
     "output_type": "stream",
     "text": [
      "The autoreload extension is already loaded. To reload it, use:\n",
      "  %reload_ext autoreload\n"
     ]
    }
   ],
   "source": [
    "%load_ext autoreload\n",
    "%autoreload 2"
   ]
  },
  {
   "cell_type": "code",
   "execution_count": 17,
   "id": "fbf9a944-c97a-4734-ad7a-728ca8cdbca5",
   "metadata": {},
   "outputs": [],
   "source": [
    "import pandas as pd\n",
    "import numpy as np\n",
    "import mesa\n",
    "from tqdm.notebook import tqdm, trange\n",
    "import src.py.experiment as exp"
   ]
  },
  {
   "cell_type": "code",
   "execution_count": null,
   "id": "686cb908-3466-4f43-9721-41d728304617",
   "metadata": {},
   "outputs": [],
   "source": [
    "test_config = exp.ExperimentConfig(\"test\")"
   ]
  },
  {
   "cell_type": "code",
   "execution_count": null,
   "id": "55d3b70b-9140-460a-9843-94948b182546",
   "metadata": {},
   "outputs": [],
   "source": [
    "exp.write_config(test_config)"
   ]
  },
  {
   "cell_type": "code",
   "execution_count": null,
   "id": "a73f158f-8bb7-4154-a291-2800e59bba87",
   "metadata": {},
   "outputs": [],
   "source": [
    "exp.load_config(\"test\")"
   ]
  },
  {
   "cell_type": "code",
   "execution_count": null,
   "id": "77e6f787-b0b4-4816-8ad5-f4a8ed3bc80a",
   "metadata": {},
   "outputs": [],
   "source": [
    "exp.CONFIG"
   ]
  },
  {
   "cell_type": "code",
   "execution_count": 18,
   "id": "f560ac4f-07e7-48e0-a95d-f1a06146f772",
   "metadata": {},
   "outputs": [],
   "source": [
    "shipper_range = [int(x) for x in  np.linspace(1,200,num = 10)]\n",
    "carrier_range = [int(x) for x in  np.linspace(1,800,num = 10)]\n",
    "\n"
   ]
  },
  {
   "cell_type": "code",
   "execution_count": 19,
   "id": "8ee62bd2-461e-408c-b767-fd562f98bf31",
   "metadata": {
    "collapsed": true,
    "jupyter": {
     "outputs_hidden": true
    },
    "tags": []
   },
   "outputs": [
    {
     "name": "stdout",
     "output_type": "stream",
     "text": [
      "wrote config exp1_0_asof_2023-01-08T22:31:15.035018.json\n",
      "wrote config exp1_1_asof_2023-01-08T22:31:15.045710.json\n",
      "wrote config exp1_2_asof_2023-01-08T22:31:15.056766.json\n",
      "wrote config exp1_3_asof_2023-01-08T22:31:15.062276.json\n",
      "wrote config exp1_4_asof_2023-01-08T22:31:15.066384.json\n",
      "wrote config exp1_5_asof_2023-01-08T22:31:15.070456.json\n",
      "wrote config exp1_6_asof_2023-01-08T22:31:15.076536.json\n",
      "wrote config exp1_7_asof_2023-01-08T22:31:15.080396.json\n",
      "wrote config exp1_8_asof_2023-01-08T22:31:15.086574.json\n",
      "wrote config exp1_9_asof_2023-01-08T22:31:15.089567.json\n",
      "wrote config exp1_10_asof_2023-01-08T22:31:15.129191.json\n",
      "wrote config exp1_11_asof_2023-01-08T22:31:15.134640.json\n",
      "wrote config exp1_12_asof_2023-01-08T22:31:15.139652.json\n",
      "wrote config exp1_13_asof_2023-01-08T22:31:15.144554.json\n",
      "wrote config exp1_14_asof_2023-01-08T22:31:15.159294.json\n",
      "wrote config exp1_15_asof_2023-01-08T22:31:15.164010.json\n",
      "wrote config exp1_16_asof_2023-01-08T22:31:15.181605.json\n",
      "wrote config exp1_17_asof_2023-01-08T22:31:15.188232.json\n",
      "wrote config exp1_18_asof_2023-01-08T22:31:15.204021.json\n",
      "wrote config exp1_19_asof_2023-01-08T22:31:15.209565.json\n",
      "wrote config exp1_20_asof_2023-01-08T22:31:15.213609.json\n",
      "wrote config exp1_21_asof_2023-01-08T22:31:15.220490.json\n",
      "wrote config exp1_22_asof_2023-01-08T22:31:15.225035.json\n",
      "wrote config exp1_23_asof_2023-01-08T22:31:15.230599.json\n",
      "wrote config exp1_24_asof_2023-01-08T22:31:15.235985.json\n",
      "wrote config exp1_25_asof_2023-01-08T22:31:15.243962.json\n",
      "wrote config exp1_26_asof_2023-01-08T22:31:15.249677.json\n",
      "wrote config exp1_27_asof_2023-01-08T22:31:15.256014.json\n",
      "wrote config exp1_28_asof_2023-01-08T22:31:15.260962.json\n",
      "wrote config exp1_29_asof_2023-01-08T22:31:15.307591.json\n",
      "wrote config exp1_30_asof_2023-01-08T22:31:15.313628.json\n",
      "wrote config exp1_31_asof_2023-01-08T22:31:15.320025.json\n",
      "wrote config exp1_32_asof_2023-01-08T22:31:15.324431.json\n",
      "wrote config exp1_33_asof_2023-01-08T22:31:15.336513.json\n",
      "wrote config exp1_34_asof_2023-01-08T22:31:15.341238.json\n",
      "wrote config exp1_35_asof_2023-01-08T22:31:15.355480.json\n",
      "wrote config exp1_36_asof_2023-01-08T22:31:15.362206.json\n",
      "wrote config exp1_37_asof_2023-01-08T22:31:15.377800.json\n",
      "wrote config exp1_38_asof_2023-01-08T22:31:15.381559.json\n",
      "wrote config exp1_39_asof_2023-01-08T22:31:15.387751.json\n",
      "wrote config exp1_40_asof_2023-01-08T22:31:15.392785.json\n",
      "wrote config exp1_41_asof_2023-01-08T22:31:15.395674.json\n",
      "wrote config exp1_42_asof_2023-01-08T22:31:15.399015.json\n",
      "wrote config exp1_43_asof_2023-01-08T22:31:15.402226.json\n",
      "wrote config exp1_44_asof_2023-01-08T22:31:15.409815.json\n",
      "wrote config exp1_45_asof_2023-01-08T22:31:15.417245.json\n",
      "wrote config exp1_46_asof_2023-01-08T22:31:15.422463.json\n",
      "wrote config exp1_47_asof_2023-01-08T22:31:15.428179.json\n",
      "wrote config exp1_48_asof_2023-01-08T22:31:15.467574.json\n",
      "wrote config exp1_49_asof_2023-01-08T22:31:15.471773.json\n",
      "wrote config exp1_50_asof_2023-01-08T22:31:15.477236.json\n",
      "wrote config exp1_51_asof_2023-01-08T22:31:15.481473.json\n",
      "wrote config exp1_52_asof_2023-01-08T22:31:15.491469.json\n",
      "wrote config exp1_53_asof_2023-01-08T22:31:15.494183.json\n",
      "wrote config exp1_54_asof_2023-01-08T22:31:15.506865.json\n",
      "wrote config exp1_55_asof_2023-01-08T22:31:15.509956.json\n",
      "wrote config exp1_56_asof_2023-01-08T22:31:15.521276.json\n",
      "wrote config exp1_57_asof_2023-01-08T22:31:15.524631.json\n",
      "wrote config exp1_58_asof_2023-01-08T22:31:15.528183.json\n",
      "wrote config exp1_59_asof_2023-01-08T22:31:15.532769.json\n",
      "wrote config exp1_60_asof_2023-01-08T22:31:15.536472.json\n",
      "wrote config exp1_61_asof_2023-01-08T22:31:15.540613.json\n",
      "wrote config exp1_62_asof_2023-01-08T22:31:15.546074.json\n",
      "wrote config exp1_63_asof_2023-01-08T22:31:15.549347.json\n",
      "wrote config exp1_64_asof_2023-01-08T22:31:15.554192.json\n",
      "wrote config exp1_65_asof_2023-01-08T22:31:15.557656.json\n",
      "wrote config exp1_66_asof_2023-01-08T22:31:15.561197.json\n",
      "wrote config exp1_67_asof_2023-01-08T22:31:15.599999.json\n",
      "wrote config exp1_68_asof_2023-01-08T22:31:15.603134.json\n",
      "wrote config exp1_69_asof_2023-01-08T22:31:15.606423.json\n",
      "wrote config exp1_70_asof_2023-01-08T22:31:15.609198.json\n",
      "wrote config exp1_71_asof_2023-01-08T22:31:15.618966.json\n",
      "wrote config exp1_72_asof_2023-01-08T22:31:15.621928.json\n",
      "wrote config exp1_73_asof_2023-01-08T22:31:15.634373.json\n",
      "wrote config exp1_74_asof_2023-01-08T22:31:15.637545.json\n",
      "wrote config exp1_75_asof_2023-01-08T22:31:15.648600.json\n",
      "wrote config exp1_76_asof_2023-01-08T22:31:15.651972.json\n",
      "wrote config exp1_77_asof_2023-01-08T22:31:15.654853.json\n",
      "wrote config exp1_78_asof_2023-01-08T22:31:15.657863.json\n",
      "wrote config exp1_79_asof_2023-01-08T22:31:15.660615.json\n",
      "wrote config exp1_80_asof_2023-01-08T22:31:15.663653.json\n",
      "wrote config exp1_81_asof_2023-01-08T22:31:15.666590.json\n",
      "wrote config exp1_82_asof_2023-01-08T22:31:15.671999.json\n",
      "wrote config exp1_83_asof_2023-01-08T22:31:15.676085.json\n",
      "wrote config exp1_84_asof_2023-01-08T22:31:15.679996.json\n",
      "wrote config exp1_85_asof_2023-01-08T22:31:15.684246.json\n",
      "wrote config exp1_86_asof_2023-01-08T22:31:15.687590.json\n",
      "wrote config exp1_87_asof_2023-01-08T22:31:15.726457.json\n",
      "wrote config exp1_88_asof_2023-01-08T22:31:15.730236.json\n",
      "wrote config exp1_89_asof_2023-01-08T22:31:15.733266.json\n",
      "wrote config exp1_90_asof_2023-01-08T22:31:15.736602.json\n",
      "wrote config exp1_91_asof_2023-01-08T22:31:15.746470.json\n",
      "wrote config exp1_92_asof_2023-01-08T22:31:15.749355.json\n",
      "wrote config exp1_93_asof_2023-01-08T22:31:15.761867.json\n",
      "wrote config exp1_94_asof_2023-01-08T22:31:15.764943.json\n",
      "wrote config exp1_95_asof_2023-01-08T22:31:15.776027.json\n",
      "wrote config exp1_96_asof_2023-01-08T22:31:15.779548.json\n",
      "wrote config exp1_97_asof_2023-01-08T22:31:15.782748.json\n",
      "wrote config exp1_98_asof_2023-01-08T22:31:15.785437.json\n",
      "wrote config exp1_99_asof_2023-01-08T22:31:15.788085.json\n"
     ]
    }
   ],
   "source": [
    "import itertools\n",
    "\n",
    "for i, (n_ship, n_car) in enumerate(itertools.product(shipper_range, carrier_range)):\n",
    "    config = exp.ExperimentConfig(name=\"exp1_\"+str(i), n_shippers=n_ship, n_carriers=n_car)\n",
    "    exp.write_config(config)\n",
    "\n"
   ]
  },
  {
   "cell_type": "code",
   "execution_count": 31,
   "id": "518e7d93-3dd6-4998-b64e-fe7e281a2f92",
   "metadata": {
    "tags": []
   },
   "outputs": [],
   "source": [
    "tmp_l = [(\"exp1_\"+str(i)+\"_\",None) for i in range(100)]"
   ]
  },
  {
   "cell_type": "code",
   "execution_count": 35,
   "id": "5c683fdd-7bbc-44d4-813d-086b1e622499",
   "metadata": {
    "tags": []
   },
   "outputs": [],
   "source": [
    "runner = exp.ExperimentRunner()"
   ]
  },
  {
   "cell_type": "code",
   "execution_count": 37,
   "id": "8fc6dfa4-52b1-4701-b030-51a737abb612",
   "metadata": {
    "tags": []
   },
   "outputs": [
    {
     "name": "stdout",
     "output_type": "stream",
     "text": [
      "loaded config exp1_0_asof_2023-01-08T22:31:15.035018.json\n"
     ]
    },
    {
     "name": "stderr",
     "output_type": "stream",
     "text": [
      "100%|██████████| 3000/3000 [00:00<00:00, 7310.85it/s]\n"
     ]
    },
    {
     "name": "stdout",
     "output_type": "stream",
     "text": [
      "loaded config exp1_1_asof_2023-01-08T22:31:15.045710.json\n"
     ]
    },
    {
     "name": "stderr",
     "output_type": "stream",
     "text": [
      "100%|██████████| 3000/3000 [00:03<00:00, 880.83it/s]\n"
     ]
    },
    {
     "name": "stdout",
     "output_type": "stream",
     "text": [
      "loaded config exp1_2_asof_2023-01-08T22:31:15.056766.json\n"
     ]
    },
    {
     "name": "stderr",
     "output_type": "stream",
     "text": [
      "100%|██████████| 3000/3000 [00:07<00:00, 405.33it/s]\n"
     ]
    },
    {
     "name": "stdout",
     "output_type": "stream",
     "text": [
      "loaded config exp1_3_asof_2023-01-08T22:31:15.062276.json\n"
     ]
    },
    {
     "name": "stderr",
     "output_type": "stream",
     "text": [
      "100%|██████████| 3000/3000 [00:08<00:00, 346.48it/s]\n"
     ]
    },
    {
     "name": "stdout",
     "output_type": "stream",
     "text": [
      "loaded config exp1_4_asof_2023-01-08T22:31:15.066384.json\n"
     ]
    },
    {
     "name": "stderr",
     "output_type": "stream",
     "text": [
      "100%|██████████| 3000/3000 [00:10<00:00, 298.07it/s]\n"
     ]
    },
    {
     "name": "stdout",
     "output_type": "stream",
     "text": [
      "loaded config exp1_5_asof_2023-01-08T22:31:15.070456.json\n"
     ]
    },
    {
     "name": "stderr",
     "output_type": "stream",
     "text": [
      "100%|██████████| 3000/3000 [00:11<00:00, 259.43it/s]\n"
     ]
    },
    {
     "name": "stdout",
     "output_type": "stream",
     "text": [
      "loaded config exp1_6_asof_2023-01-08T22:31:15.076536.json\n"
     ]
    },
    {
     "name": "stderr",
     "output_type": "stream",
     "text": [
      "100%|██████████| 3000/3000 [00:13<00:00, 229.33it/s]\n"
     ]
    },
    {
     "name": "stdout",
     "output_type": "stream",
     "text": [
      "loaded config exp1_7_asof_2023-01-08T22:31:15.080396.json\n"
     ]
    },
    {
     "name": "stderr",
     "output_type": "stream",
     "text": [
      "100%|██████████| 3000/3000 [00:14<00:00, 206.54it/s]\n"
     ]
    },
    {
     "name": "stdout",
     "output_type": "stream",
     "text": [
      "loaded config exp1_8_asof_2023-01-08T22:31:15.086574.json\n"
     ]
    },
    {
     "name": "stderr",
     "output_type": "stream",
     "text": [
      "100%|██████████| 3000/3000 [00:15<00:00, 193.05it/s]\n"
     ]
    },
    {
     "name": "stdout",
     "output_type": "stream",
     "text": [
      "loaded config exp1_9_asof_2023-01-08T22:31:15.089567.json\n"
     ]
    },
    {
     "name": "stderr",
     "output_type": "stream",
     "text": [
      "100%|██████████| 3000/3000 [00:17<00:00, 171.76it/s]\n"
     ]
    },
    {
     "name": "stdout",
     "output_type": "stream",
     "text": [
      "loaded config exp1_10_asof_2023-01-08T22:31:15.129191.json\n"
     ]
    },
    {
     "name": "stderr",
     "output_type": "stream",
     "text": [
      "100%|██████████| 3000/3000 [00:02<00:00, 1033.16it/s]\n"
     ]
    },
    {
     "name": "stdout",
     "output_type": "stream",
     "text": [
      "loaded config exp1_11_asof_2023-01-08T22:31:15.134640.json\n"
     ]
    },
    {
     "name": "stderr",
     "output_type": "stream",
     "text": [
      "100%|██████████| 3000/3000 [01:33<00:00, 32.13it/s]\n"
     ]
    },
    {
     "name": "stdout",
     "output_type": "stream",
     "text": [
      "loaded config exp1_12_asof_2023-01-08T22:31:15.139652.json\n"
     ]
    },
    {
     "name": "stderr",
     "output_type": "stream",
     "text": [
      "100%|██████████| 3000/3000 [02:18<00:00, 21.74it/s]\n"
     ]
    },
    {
     "name": "stdout",
     "output_type": "stream",
     "text": [
      "loaded config exp1_13_asof_2023-01-08T22:31:15.144554.json\n"
     ]
    },
    {
     "name": "stderr",
     "output_type": "stream",
     "text": [
      "100%|██████████| 3000/3000 [02:15<00:00, 22.11it/s]\n"
     ]
    },
    {
     "name": "stdout",
     "output_type": "stream",
     "text": [
      "loaded config exp1_14_asof_2023-01-08T22:31:15.159294.json\n"
     ]
    },
    {
     "name": "stderr",
     "output_type": "stream",
     "text": [
      "100%|██████████| 3000/3000 [02:17<00:00, 21.83it/s]\n"
     ]
    },
    {
     "name": "stdout",
     "output_type": "stream",
     "text": [
      "loaded config exp1_15_asof_2023-01-08T22:31:15.164010.json\n"
     ]
    },
    {
     "name": "stderr",
     "output_type": "stream",
     "text": [
      "100%|██████████| 3000/3000 [02:18<00:00, 21.62it/s]\n"
     ]
    },
    {
     "name": "stdout",
     "output_type": "stream",
     "text": [
      "loaded config exp1_16_asof_2023-01-08T22:31:15.181605.json\n"
     ]
    },
    {
     "name": "stderr",
     "output_type": "stream",
     "text": [
      "100%|██████████| 3000/3000 [02:20<00:00, 21.40it/s]\n"
     ]
    },
    {
     "name": "stdout",
     "output_type": "stream",
     "text": [
      "loaded config exp1_17_asof_2023-01-08T22:31:15.188232.json\n"
     ]
    },
    {
     "name": "stderr",
     "output_type": "stream",
     "text": [
      "100%|██████████| 3000/3000 [02:20<00:00, 21.41it/s]\n"
     ]
    },
    {
     "name": "stdout",
     "output_type": "stream",
     "text": [
      "loaded config exp1_18_asof_2023-01-08T22:31:15.204021.json\n"
     ]
    },
    {
     "name": "stderr",
     "output_type": "stream",
     "text": [
      "100%|██████████| 3000/3000 [02:22<00:00, 21.05it/s]\n"
     ]
    },
    {
     "name": "stdout",
     "output_type": "stream",
     "text": [
      "loaded config exp1_19_asof_2023-01-08T22:31:15.209565.json\n"
     ]
    },
    {
     "name": "stderr",
     "output_type": "stream",
     "text": [
      "100%|██████████| 3000/3000 [02:22<00:00, 21.05it/s]\n"
     ]
    },
    {
     "name": "stdout",
     "output_type": "stream",
     "text": [
      "loaded config exp1_20_asof_2023-01-08T22:31:15.213609.json\n"
     ]
    },
    {
     "name": "stderr",
     "output_type": "stream",
     "text": [
      "100%|██████████| 3000/3000 [00:04<00:00, 640.99it/s]\n"
     ]
    },
    {
     "name": "stdout",
     "output_type": "stream",
     "text": [
      "loaded config exp1_21_asof_2023-01-08T22:31:15.220490.json\n"
     ]
    },
    {
     "name": "stderr",
     "output_type": "stream",
     "text": [
      "100%|██████████| 3000/3000 [01:43<00:00, 28.97it/s]\n"
     ]
    },
    {
     "name": "stdout",
     "output_type": "stream",
     "text": [
      "loaded config exp1_22_asof_2023-01-08T22:31:15.225035.json\n"
     ]
    },
    {
     "name": "stderr",
     "output_type": "stream",
     "text": [
      "100%|██████████| 3000/3000 [03:32<00:00, 14.12it/s]\n"
     ]
    },
    {
     "name": "stdout",
     "output_type": "stream",
     "text": [
      "loaded config exp1_23_asof_2023-01-08T22:31:15.230599.json\n"
     ]
    },
    {
     "name": "stderr",
     "output_type": "stream",
     "text": [
      "100%|██████████| 3000/3000 [05:21<00:00,  9.32it/s]\n"
     ]
    },
    {
     "name": "stdout",
     "output_type": "stream",
     "text": [
      "loaded config exp1_24_asof_2023-01-08T22:31:15.235985.json\n"
     ]
    },
    {
     "name": "stderr",
     "output_type": "stream",
     "text": [
      "100%|██████████| 3000/3000 [04:53<00:00, 10.21it/s]\n"
     ]
    },
    {
     "name": "stdout",
     "output_type": "stream",
     "text": [
      "loaded config exp1_25_asof_2023-01-08T22:31:15.243962.json\n"
     ]
    },
    {
     "name": "stderr",
     "output_type": "stream",
     "text": [
      "100%|██████████| 3000/3000 [04:50<00:00, 10.34it/s]\n"
     ]
    },
    {
     "name": "stdout",
     "output_type": "stream",
     "text": [
      "loaded config exp1_26_asof_2023-01-08T22:31:15.249677.json\n"
     ]
    },
    {
     "name": "stderr",
     "output_type": "stream",
     "text": [
      "100%|██████████| 3000/3000 [04:53<00:00, 10.22it/s]\n"
     ]
    },
    {
     "name": "stdout",
     "output_type": "stream",
     "text": [
      "loaded config exp1_27_asof_2023-01-08T22:31:15.256014.json\n"
     ]
    },
    {
     "name": "stderr",
     "output_type": "stream",
     "text": [
      "100%|██████████| 3000/3000 [04:55<00:00, 10.17it/s]\n"
     ]
    },
    {
     "name": "stdout",
     "output_type": "stream",
     "text": [
      "loaded config exp1_28_asof_2023-01-08T22:31:15.260962.json\n"
     ]
    },
    {
     "name": "stderr",
     "output_type": "stream",
     "text": [
      "100%|██████████| 3000/3000 [04:56<00:00, 10.11it/s]\n"
     ]
    },
    {
     "name": "stdout",
     "output_type": "stream",
     "text": [
      "loaded config exp1_29_asof_2023-01-08T22:31:15.307591.json\n"
     ]
    },
    {
     "name": "stderr",
     "output_type": "stream",
     "text": [
      "100%|██████████| 3000/3000 [04:54<00:00, 10.18it/s]\n"
     ]
    },
    {
     "name": "stdout",
     "output_type": "stream",
     "text": [
      "loaded config exp1_30_asof_2023-01-08T22:31:15.313628.json\n"
     ]
    },
    {
     "name": "stderr",
     "output_type": "stream",
     "text": [
      "100%|██████████| 3000/3000 [00:06<00:00, 479.44it/s]\n"
     ]
    },
    {
     "name": "stdout",
     "output_type": "stream",
     "text": [
      "loaded config exp1_31_asof_2023-01-08T22:31:15.320025.json\n"
     ]
    },
    {
     "name": "stderr",
     "output_type": "stream",
     "text": [
      "100%|██████████| 3000/3000 [01:54<00:00, 26.15it/s]\n"
     ]
    },
    {
     "name": "stdout",
     "output_type": "stream",
     "text": [
      "loaded config exp1_32_asof_2023-01-08T22:31:15.324431.json\n"
     ]
    },
    {
     "name": "stderr",
     "output_type": "stream",
     "text": [
      "100%|██████████| 3000/3000 [03:59<00:00, 12.52it/s]\n"
     ]
    },
    {
     "name": "stdout",
     "output_type": "stream",
     "text": [
      "loaded config exp1_33_asof_2023-01-08T22:31:15.336513.json\n"
     ]
    },
    {
     "name": "stderr",
     "output_type": "stream",
     "text": [
      "100%|██████████| 3000/3000 [06:03<00:00,  8.25it/s]\n"
     ]
    },
    {
     "name": "stdout",
     "output_type": "stream",
     "text": [
      "loaded config exp1_34_asof_2023-01-08T22:31:15.341238.json\n"
     ]
    },
    {
     "name": "stderr",
     "output_type": "stream",
     "text": [
      "100%|██████████| 3000/3000 [07:52<00:00,  6.34it/s]\n"
     ]
    },
    {
     "name": "stdout",
     "output_type": "stream",
     "text": [
      "loaded config exp1_35_asof_2023-01-08T22:31:15.355480.json\n"
     ]
    },
    {
     "name": "stderr",
     "output_type": "stream",
     "text": [
      "100%|██████████| 3000/3000 [07:41<00:00,  6.50it/s]\n"
     ]
    },
    {
     "name": "stdout",
     "output_type": "stream",
     "text": [
      "loaded config exp1_36_asof_2023-01-08T22:31:15.362206.json\n"
     ]
    },
    {
     "name": "stderr",
     "output_type": "stream",
     "text": [
      "100%|██████████| 3000/3000 [07:20<00:00,  6.81it/s]\n"
     ]
    },
    {
     "name": "stdout",
     "output_type": "stream",
     "text": [
      "loaded config exp1_37_asof_2023-01-08T22:31:15.377800.json\n"
     ]
    },
    {
     "name": "stderr",
     "output_type": "stream",
     "text": [
      "100%|██████████| 3000/3000 [07:14<00:00,  6.91it/s]\n"
     ]
    },
    {
     "name": "stdout",
     "output_type": "stream",
     "text": [
      "loaded config exp1_38_asof_2023-01-08T22:31:15.381559.json\n"
     ]
    },
    {
     "name": "stderr",
     "output_type": "stream",
     "text": [
      "100%|██████████| 3000/3000 [07:11<00:00,  6.95it/s]\n"
     ]
    },
    {
     "name": "stdout",
     "output_type": "stream",
     "text": [
      "loaded config exp1_39_asof_2023-01-08T22:31:15.387751.json\n"
     ]
    },
    {
     "name": "stderr",
     "output_type": "stream",
     "text": [
      "100%|██████████| 3000/3000 [07:18<00:00,  6.84it/s]\n"
     ]
    },
    {
     "name": "stdout",
     "output_type": "stream",
     "text": [
      "loaded config exp1_40_asof_2023-01-08T22:31:15.392785.json\n"
     ]
    },
    {
     "name": "stderr",
     "output_type": "stream",
     "text": [
      "100%|██████████| 3000/3000 [00:08<00:00, 369.51it/s]\n"
     ]
    },
    {
     "name": "stdout",
     "output_type": "stream",
     "text": [
      "loaded config exp1_41_asof_2023-01-08T22:31:15.395674.json\n"
     ]
    },
    {
     "name": "stderr",
     "output_type": "stream",
     "text": [
      "100%|██████████| 3000/3000 [02:09<00:00, 23.08it/s]\n"
     ]
    },
    {
     "name": "stdout",
     "output_type": "stream",
     "text": [
      "loaded config exp1_42_asof_2023-01-08T22:31:15.399015.json\n"
     ]
    },
    {
     "name": "stderr",
     "output_type": "stream",
     "text": [
      "100%|██████████| 3000/3000 [04:15<00:00, 11.74it/s]\n"
     ]
    },
    {
     "name": "stdout",
     "output_type": "stream",
     "text": [
      "loaded config exp1_43_asof_2023-01-08T22:31:15.402226.json\n"
     ]
    },
    {
     "name": "stderr",
     "output_type": "stream",
     "text": [
      "100%|██████████| 3000/3000 [06:20<00:00,  7.88it/s]\n"
     ]
    },
    {
     "name": "stdout",
     "output_type": "stream",
     "text": [
      "loaded config exp1_44_asof_2023-01-08T22:31:15.409815.json\n"
     ]
    },
    {
     "name": "stderr",
     "output_type": "stream",
     "text": [
      "100%|██████████| 3000/3000 [31:28<00:00,  1.59it/s]     \n"
     ]
    },
    {
     "name": "stdout",
     "output_type": "stream",
     "text": [
      "loaded config exp1_45_asof_2023-01-08T22:31:15.417245.json\n"
     ]
    },
    {
     "name": "stderr",
     "output_type": "stream",
     "text": [
      "100%|██████████| 3000/3000 [10:32<00:00,  4.74it/s]\n"
     ]
    },
    {
     "name": "stdout",
     "output_type": "stream",
     "text": [
      "loaded config exp1_46_asof_2023-01-08T22:31:15.422463.json\n"
     ]
    },
    {
     "name": "stderr",
     "output_type": "stream",
     "text": [
      "100%|██████████| 3000/3000 [11:35<00:00,  4.32it/s]\n"
     ]
    },
    {
     "name": "stdout",
     "output_type": "stream",
     "text": [
      "loaded config exp1_47_asof_2023-01-08T22:31:15.428179.json\n"
     ]
    },
    {
     "name": "stderr",
     "output_type": "stream",
     "text": [
      "100%|██████████| 3000/3000 [09:48<00:00,  5.10it/s]\n"
     ]
    },
    {
     "name": "stdout",
     "output_type": "stream",
     "text": [
      "loaded config exp1_48_asof_2023-01-08T22:31:15.467574.json\n"
     ]
    },
    {
     "name": "stderr",
     "output_type": "stream",
     "text": [
      "100%|██████████| 3000/3000 [23:58<00:00,  2.08it/s]   \n"
     ]
    },
    {
     "name": "stdout",
     "output_type": "stream",
     "text": [
      "loaded config exp1_49_asof_2023-01-08T22:31:15.471773.json\n"
     ]
    },
    {
     "name": "stderr",
     "output_type": "stream",
     "text": [
      "100%|██████████| 3000/3000 [12:03<00:00,  4.14it/s]  \n"
     ]
    },
    {
     "name": "stdout",
     "output_type": "stream",
     "text": [
      "loaded config exp1_50_asof_2023-01-08T22:31:15.477236.json\n"
     ]
    },
    {
     "name": "stderr",
     "output_type": "stream",
     "text": [
      "100%|██████████| 3000/3000 [00:09<00:00, 314.20it/s]\n"
     ]
    },
    {
     "name": "stdout",
     "output_type": "stream",
     "text": [
      "loaded config exp1_51_asof_2023-01-08T22:31:15.481473.json\n"
     ]
    },
    {
     "name": "stderr",
     "output_type": "stream",
     "text": [
      "100%|██████████| 3000/3000 [02:19<00:00, 21.45it/s]\n"
     ]
    },
    {
     "name": "stdout",
     "output_type": "stream",
     "text": [
      "loaded config exp1_52_asof_2023-01-08T22:31:15.491469.json\n"
     ]
    },
    {
     "name": "stderr",
     "output_type": "stream",
     "text": [
      "100%|██████████| 3000/3000 [04:34<00:00, 10.93it/s]\n"
     ]
    },
    {
     "name": "stdout",
     "output_type": "stream",
     "text": [
      "loaded config exp1_53_asof_2023-01-08T22:31:15.494183.json\n"
     ]
    },
    {
     "name": "stderr",
     "output_type": "stream",
     "text": [
      "100%|██████████| 3000/3000 [07:23<00:00,  6.77it/s]  \n"
     ]
    },
    {
     "name": "stdout",
     "output_type": "stream",
     "text": [
      "loaded config exp1_54_asof_2023-01-08T22:31:15.506865.json\n"
     ]
    },
    {
     "name": "stderr",
     "output_type": "stream",
     "text": [
      "100%|██████████| 3000/3000 [14:03<00:00,  3.56it/s]   \n"
     ]
    },
    {
     "name": "stdout",
     "output_type": "stream",
     "text": [
      "loaded config exp1_55_asof_2023-01-08T22:31:15.509956.json\n"
     ]
    },
    {
     "name": "stderr",
     "output_type": "stream",
     "text": [
      "100%|██████████| 3000/3000 [28:08<00:00,  1.78it/s]    \n"
     ]
    },
    {
     "name": "stdout",
     "output_type": "stream",
     "text": [
      "loaded config exp1_56_asof_2023-01-08T22:31:15.521276.json\n"
     ]
    },
    {
     "name": "stderr",
     "output_type": "stream",
     "text": [
      "100%|██████████| 3000/3000 [13:02<00:00,  3.83it/s]\n"
     ]
    },
    {
     "name": "stdout",
     "output_type": "stream",
     "text": [
      "loaded config exp1_57_asof_2023-01-08T22:31:15.524631.json\n"
     ]
    },
    {
     "name": "stderr",
     "output_type": "stream",
     "text": [
      "100%|██████████| 3000/3000 [14:40<00:00,  3.41it/s]\n"
     ]
    },
    {
     "name": "stdout",
     "output_type": "stream",
     "text": [
      "loaded config exp1_58_asof_2023-01-08T22:31:15.528183.json\n"
     ]
    },
    {
     "name": "stderr",
     "output_type": "stream",
     "text": [
      "100%|██████████| 3000/3000 [12:47<00:00,  3.91it/s]\n"
     ]
    },
    {
     "name": "stdout",
     "output_type": "stream",
     "text": [
      "loaded config exp1_59_asof_2023-01-08T22:31:15.532769.json\n"
     ]
    },
    {
     "name": "stderr",
     "output_type": "stream",
     "text": [
      "100%|██████████| 3000/3000 [12:09<00:00,  4.11it/s]\n"
     ]
    },
    {
     "name": "stdout",
     "output_type": "stream",
     "text": [
      "loaded config exp1_60_asof_2023-01-08T22:31:15.536472.json\n"
     ]
    },
    {
     "name": "stderr",
     "output_type": "stream",
     "text": [
      "100%|██████████| 3000/3000 [00:11<00:00, 260.94it/s]\n"
     ]
    },
    {
     "name": "stdout",
     "output_type": "stream",
     "text": [
      "loaded config exp1_61_asof_2023-01-08T22:31:15.540613.json\n"
     ]
    },
    {
     "name": "stderr",
     "output_type": "stream",
     "text": [
      "100%|██████████| 3000/3000 [02:27<00:00, 20.31it/s]\n"
     ]
    },
    {
     "name": "stdout",
     "output_type": "stream",
     "text": [
      "loaded config exp1_62_asof_2023-01-08T22:31:15.546074.json\n"
     ]
    },
    {
     "name": "stderr",
     "output_type": "stream",
     "text": [
      "100%|██████████| 3000/3000 [04:53<00:00, 10.24it/s]\n"
     ]
    },
    {
     "name": "stdout",
     "output_type": "stream",
     "text": [
      "loaded config exp1_63_asof_2023-01-08T22:31:15.549347.json\n"
     ]
    },
    {
     "name": "stderr",
     "output_type": "stream",
     "text": [
      "100%|██████████| 3000/3000 [07:11<00:00,  6.96it/s]\n"
     ]
    },
    {
     "name": "stdout",
     "output_type": "stream",
     "text": [
      "loaded config exp1_64_asof_2023-01-08T22:31:15.554192.json\n"
     ]
    },
    {
     "name": "stderr",
     "output_type": "stream",
     "text": [
      "100%|██████████| 3000/3000 [09:28<00:00,  5.28it/s]\n"
     ]
    },
    {
     "name": "stdout",
     "output_type": "stream",
     "text": [
      "loaded config exp1_65_asof_2023-01-08T22:31:15.557656.json\n"
     ]
    },
    {
     "name": "stderr",
     "output_type": "stream",
     "text": [
      "100%|██████████| 3000/3000 [11:47<00:00,  4.24it/s]\n"
     ]
    },
    {
     "name": "stdout",
     "output_type": "stream",
     "text": [
      "loaded config exp1_66_asof_2023-01-08T22:31:15.561197.json\n"
     ]
    },
    {
     "name": "stderr",
     "output_type": "stream",
     "text": [
      "100%|██████████| 3000/3000 [13:55<00:00,  3.59it/s]\n"
     ]
    },
    {
     "name": "stdout",
     "output_type": "stream",
     "text": [
      "loaded config exp1_67_asof_2023-01-08T22:31:15.599999.json\n"
     ]
    },
    {
     "name": "stderr",
     "output_type": "stream",
     "text": [
      "100%|██████████| 3000/3000 [16:16<00:00,  3.07it/s]\n"
     ]
    },
    {
     "name": "stdout",
     "output_type": "stream",
     "text": [
      "loaded config exp1_68_asof_2023-01-08T22:31:15.603134.json\n"
     ]
    },
    {
     "name": "stderr",
     "output_type": "stream",
     "text": [
      "100%|██████████| 3000/3000 [18:29<00:00,  2.70it/s]\n"
     ]
    },
    {
     "name": "stdout",
     "output_type": "stream",
     "text": [
      "loaded config exp1_69_asof_2023-01-08T22:31:15.606423.json\n"
     ]
    },
    {
     "name": "stderr",
     "output_type": "stream",
     "text": [
      "100%|██████████| 3000/3000 [18:24<00:00,  2.72it/s]\n"
     ]
    },
    {
     "name": "stdout",
     "output_type": "stream",
     "text": [
      "loaded config exp1_70_asof_2023-01-08T22:31:15.609198.json\n"
     ]
    },
    {
     "name": "stderr",
     "output_type": "stream",
     "text": [
      "100%|██████████| 3000/3000 [00:13<00:00, 226.56it/s]\n"
     ]
    },
    {
     "name": "stdout",
     "output_type": "stream",
     "text": [
      "loaded config exp1_71_asof_2023-01-08T22:31:15.618966.json\n"
     ]
    },
    {
     "name": "stderr",
     "output_type": "stream",
     "text": [
      "100%|██████████| 3000/3000 [02:42<00:00, 18.46it/s]\n"
     ]
    },
    {
     "name": "stdout",
     "output_type": "stream",
     "text": [
      "loaded config exp1_72_asof_2023-01-08T22:31:15.621928.json\n"
     ]
    },
    {
     "name": "stderr",
     "output_type": "stream",
     "text": [
      "100%|██████████| 3000/3000 [05:17<00:00,  9.45it/s]\n"
     ]
    },
    {
     "name": "stdout",
     "output_type": "stream",
     "text": [
      "loaded config exp1_73_asof_2023-01-08T22:31:15.634373.json\n"
     ]
    },
    {
     "name": "stderr",
     "output_type": "stream",
     "text": [
      "100%|██████████| 3000/3000 [07:45<00:00,  6.44it/s]\n"
     ]
    },
    {
     "name": "stdout",
     "output_type": "stream",
     "text": [
      "loaded config exp1_74_asof_2023-01-08T22:31:15.637545.json\n"
     ]
    },
    {
     "name": "stderr",
     "output_type": "stream",
     "text": [
      "100%|██████████| 3000/3000 [10:11<00:00,  4.91it/s]\n"
     ]
    },
    {
     "name": "stdout",
     "output_type": "stream",
     "text": [
      "loaded config exp1_75_asof_2023-01-08T22:31:15.648600.json\n"
     ]
    },
    {
     "name": "stderr",
     "output_type": "stream",
     "text": [
      "100%|██████████| 3000/3000 [12:30<00:00,  4.00it/s]\n"
     ]
    },
    {
     "name": "stdout",
     "output_type": "stream",
     "text": [
      "loaded config exp1_76_asof_2023-01-08T22:31:15.651972.json\n"
     ]
    },
    {
     "name": "stderr",
     "output_type": "stream",
     "text": [
      "100%|██████████| 3000/3000 [15:03<00:00,  3.32it/s]\n"
     ]
    },
    {
     "name": "stdout",
     "output_type": "stream",
     "text": [
      "loaded config exp1_77_asof_2023-01-08T22:31:15.654853.json\n"
     ]
    },
    {
     "name": "stderr",
     "output_type": "stream",
     "text": [
      "100%|██████████| 3000/3000 [17:20<00:00,  2.88it/s]\n"
     ]
    },
    {
     "name": "stdout",
     "output_type": "stream",
     "text": [
      "loaded config exp1_78_asof_2023-01-08T22:31:15.657863.json\n"
     ]
    },
    {
     "name": "stderr",
     "output_type": "stream",
     "text": [
      "100%|██████████| 3000/3000 [36:18<00:00,  1.38it/s]    \n"
     ]
    },
    {
     "name": "stdout",
     "output_type": "stream",
     "text": [
      "loaded config exp1_79_asof_2023-01-08T22:31:15.660615.json\n"
     ]
    },
    {
     "name": "stderr",
     "output_type": "stream",
     "text": [
      "100%|██████████| 3000/3000 [21:17<00:00,  2.35it/s]\n"
     ]
    },
    {
     "name": "stdout",
     "output_type": "stream",
     "text": [
      "loaded config exp1_80_asof_2023-01-08T22:31:15.663653.json\n"
     ]
    },
    {
     "name": "stderr",
     "output_type": "stream",
     "text": [
      "100%|██████████| 3000/3000 [00:14<00:00, 200.66it/s]\n"
     ]
    },
    {
     "name": "stdout",
     "output_type": "stream",
     "text": [
      "loaded config exp1_81_asof_2023-01-08T22:31:15.666590.json\n"
     ]
    },
    {
     "name": "stderr",
     "output_type": "stream",
     "text": [
      "100%|██████████| 3000/3000 [02:53<00:00, 17.24it/s]\n"
     ]
    },
    {
     "name": "stdout",
     "output_type": "stream",
     "text": [
      "loaded config exp1_82_asof_2023-01-08T22:31:15.671999.json\n"
     ]
    },
    {
     "name": "stderr",
     "output_type": "stream",
     "text": [
      "100%|██████████| 3000/3000 [05:33<00:00,  9.00it/s]\n"
     ]
    },
    {
     "name": "stdout",
     "output_type": "stream",
     "text": [
      "loaded config exp1_83_asof_2023-01-08T22:31:15.676085.json\n"
     ]
    },
    {
     "name": "stderr",
     "output_type": "stream",
     "text": [
      "100%|██████████| 3000/3000 [08:09<00:00,  6.13it/s]\n"
     ]
    },
    {
     "name": "stdout",
     "output_type": "stream",
     "text": [
      "loaded config exp1_84_asof_2023-01-08T22:31:15.679996.json\n"
     ]
    },
    {
     "name": "stderr",
     "output_type": "stream",
     "text": [
      "100%|██████████| 3000/3000 [10:42<00:00,  4.67it/s]\n"
     ]
    },
    {
     "name": "stdout",
     "output_type": "stream",
     "text": [
      "loaded config exp1_85_asof_2023-01-08T22:31:15.684246.json\n"
     ]
    },
    {
     "name": "stderr",
     "output_type": "stream",
     "text": [
      "100%|██████████| 3000/3000 [13:14<00:00,  3.78it/s]\n"
     ]
    },
    {
     "name": "stdout",
     "output_type": "stream",
     "text": [
      "loaded config exp1_86_asof_2023-01-08T22:31:15.687590.json\n"
     ]
    },
    {
     "name": "stderr",
     "output_type": "stream",
     "text": [
      "100%|██████████| 3000/3000 [15:41<00:00,  3.19it/s]\n"
     ]
    },
    {
     "name": "stdout",
     "output_type": "stream",
     "text": [
      "loaded config exp1_87_asof_2023-01-08T22:31:15.726457.json\n"
     ]
    },
    {
     "name": "stderr",
     "output_type": "stream",
     "text": [
      "100%|██████████| 3000/3000 [18:11<00:00,  2.75it/s]\n"
     ]
    },
    {
     "name": "stdout",
     "output_type": "stream",
     "text": [
      "loaded config exp1_88_asof_2023-01-08T22:31:15.730236.json\n"
     ]
    },
    {
     "name": "stderr",
     "output_type": "stream",
     "text": [
      "100%|██████████| 3000/3000 [20:30<00:00,  2.44it/s]\n"
     ]
    },
    {
     "name": "stdout",
     "output_type": "stream",
     "text": [
      "loaded config exp1_89_asof_2023-01-08T22:31:15.733266.json\n"
     ]
    },
    {
     "name": "stderr",
     "output_type": "stream",
     "text": [
      "100%|██████████| 3000/3000 [22:50<00:00,  2.19it/s]\n"
     ]
    },
    {
     "name": "stdout",
     "output_type": "stream",
     "text": [
      "loaded config exp1_90_asof_2023-01-08T22:31:15.736602.json\n"
     ]
    },
    {
     "name": "stderr",
     "output_type": "stream",
     "text": [
      "100%|██████████| 3000/3000 [00:16<00:00, 177.18it/s]\n"
     ]
    },
    {
     "name": "stdout",
     "output_type": "stream",
     "text": [
      "loaded config exp1_91_asof_2023-01-08T22:31:15.746470.json\n"
     ]
    },
    {
     "name": "stderr",
     "output_type": "stream",
     "text": [
      "100%|██████████| 3000/3000 [03:05<00:00, 16.14it/s]\n"
     ]
    },
    {
     "name": "stdout",
     "output_type": "stream",
     "text": [
      "loaded config exp1_92_asof_2023-01-08T22:31:15.749355.json\n"
     ]
    },
    {
     "name": "stderr",
     "output_type": "stream",
     "text": [
      "100%|██████████| 3000/3000 [05:57<00:00,  8.40it/s]\n"
     ]
    },
    {
     "name": "stdout",
     "output_type": "stream",
     "text": [
      "loaded config exp1_93_asof_2023-01-08T22:31:15.761867.json\n"
     ]
    },
    {
     "name": "stderr",
     "output_type": "stream",
     "text": [
      "100%|██████████| 3000/3000 [08:39<00:00,  5.77it/s]\n"
     ]
    },
    {
     "name": "stdout",
     "output_type": "stream",
     "text": [
      "loaded config exp1_94_asof_2023-01-08T22:31:15.764943.json\n"
     ]
    },
    {
     "name": "stderr",
     "output_type": "stream",
     "text": [
      "100%|██████████| 3000/3000 [11:18<00:00,  4.42it/s]\n"
     ]
    },
    {
     "name": "stdout",
     "output_type": "stream",
     "text": [
      "loaded config exp1_95_asof_2023-01-08T22:31:15.776027.json\n"
     ]
    },
    {
     "name": "stderr",
     "output_type": "stream",
     "text": [
      "100%|██████████| 3000/3000 [13:56<00:00,  3.58it/s]\n"
     ]
    },
    {
     "name": "stdout",
     "output_type": "stream",
     "text": [
      "loaded config exp1_96_asof_2023-01-08T22:31:15.779548.json\n"
     ]
    },
    {
     "name": "stderr",
     "output_type": "stream",
     "text": [
      "100%|██████████| 3000/3000 [16:35<00:00,  3.01it/s]\n"
     ]
    },
    {
     "name": "stdout",
     "output_type": "stream",
     "text": [
      "loaded config exp1_97_asof_2023-01-08T22:31:15.782748.json\n"
     ]
    },
    {
     "name": "stderr",
     "output_type": "stream",
     "text": [
      "100%|██████████| 3000/3000 [19:08<00:00,  2.61it/s]\n"
     ]
    },
    {
     "name": "stdout",
     "output_type": "stream",
     "text": [
      "loaded config exp1_98_asof_2023-01-08T22:31:15.785437.json\n"
     ]
    },
    {
     "name": "stderr",
     "output_type": "stream",
     "text": [
      "100%|██████████| 3000/3000 [21:47<00:00,  2.29it/s]\n"
     ]
    },
    {
     "name": "stdout",
     "output_type": "stream",
     "text": [
      "loaded config exp1_99_asof_2023-01-08T22:31:15.788085.json\n"
     ]
    },
    {
     "name": "stderr",
     "output_type": "stream",
     "text": [
      "100%|██████████| 3000/3000 [24:07<00:00,  2.07it/s]\n"
     ]
    }
   ],
   "source": [
    "runner.run_experiments(config_list=[(\"exp1_\"+str(i)+\"_\",None) for i in range(100)], n_steps=3000)"
   ]
  },
  {
   "cell_type": "code",
   "execution_count": null,
   "id": "f3b6dde0-f6ff-48a8-acac-4f62c25ba8b3",
   "metadata": {},
   "outputs": [],
   "source": []
  }
 ],
 "metadata": {
  "kernelspec": {
   "display_name": "Python 3 (ipykernel)",
   "language": "python",
   "name": "python3"
  },
  "language_info": {
   "codemirror_mode": {
    "name": "ipython",
    "version": 3
   },
   "file_extension": ".py",
   "mimetype": "text/x-python",
   "name": "python",
   "nbconvert_exporter": "python",
   "pygments_lexer": "ipython3",
   "version": "3.10.8"
  }
 },
 "nbformat": 4,
 "nbformat_minor": 5
}
