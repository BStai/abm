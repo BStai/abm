{
 "cells": [
  {
   "cell_type": "code",
   "execution_count": 4,
   "id": "e90afbcc-3aa6-4ec1-9c44-5c3418448e0e",
   "metadata": {},
   "outputs": [
    {
     "name": "stdout",
     "output_type": "stream",
     "text": [
      "The autoreload extension is already loaded. To reload it, use:\n",
      "  %reload_ext autoreload\n"
     ]
    }
   ],
   "source": [
    "%load_ext autoreload\n",
    "%autoreload 2"
   ]
  },
  {
   "cell_type": "code",
   "execution_count": 45,
   "id": "fbf9a944-c97a-4734-ad7a-728ca8cdbca5",
   "metadata": {},
   "outputs": [],
   "source": [
    "import pandas as pd\n",
    "import numpy as np\n",
    "import mesa\n",
    "from tqdm.notebook import tqdm, trange\n",
    "import src.py.experiment as exp"
   ]
  },
  {
   "cell_type": "code",
   "execution_count": 12,
   "id": "686cb908-3466-4f43-9721-41d728304617",
   "metadata": {},
   "outputs": [],
   "source": [
    "test_config = exp.ExperimentConfig(\"test\")"
   ]
  },
  {
   "cell_type": "code",
   "execution_count": 39,
   "id": "55d3b70b-9140-460a-9843-94948b182546",
   "metadata": {},
   "outputs": [
    {
     "name": "stdout",
     "output_type": "stream",
     "text": [
      "wrote config test_asof_2023-01-03T02:55:53.010884.json\n"
     ]
    }
   ],
   "source": [
    "exp.write_config(test_config)"
   ]
  },
  {
   "cell_type": "code",
   "execution_count": 40,
   "id": "a73f158f-8bb7-4154-a291-2800e59bba87",
   "metadata": {},
   "outputs": [
    {
     "name": "stdout",
     "output_type": "stream",
     "text": [
      "loaded config test_asof_2023-01-03T02:55:53.010884.json\n"
     ]
    },
    {
     "data": {
      "text/plain": [
       "'test_asof_2023-01-03T02:55:53.010884.json'"
      ]
     },
     "execution_count": 40,
     "metadata": {},
     "output_type": "execute_result"
    }
   ],
   "source": [
    "exp.load_config(\"test\")"
   ]
  },
  {
   "cell_type": "code",
   "execution_count": 41,
   "id": "77e6f787-b0b4-4816-8ad5-f4a8ed3bc80a",
   "metadata": {},
   "outputs": [
    {
     "data": {
      "text/plain": [
       "ExperimentConfig(name='test', version=0, n_shippers=50, n_carriers=400, width=40, height=10, carrier_speed_per_tick=3, carrier_search_radius=1, carrier_search_type='stay_put', carrier_rand_walk_amount=1, shipper_starting_rate=3, shipper_max_unbooked=50, shipper_lead_time=3)"
      ]
     },
     "execution_count": 41,
     "metadata": {},
     "output_type": "execute_result"
    }
   ],
   "source": [
    "exp.CONFIG"
   ]
  },
  {
   "cell_type": "code",
   "execution_count": 60,
   "id": "f560ac4f-07e7-48e0-a95d-f1a06146f772",
   "metadata": {},
   "outputs": [],
   "source": [
    "shipper_range = [int(x) for x in  np.linspace(1,200,num = 10)]\n",
    "carrier_range = [int(x) for x in  np.linspace(1,800,num = 10)]\n",
    "\n"
   ]
  },
  {
   "cell_type": "code",
   "execution_count": 67,
   "id": "8ee62bd2-461e-408c-b767-fd562f98bf31",
   "metadata": {
    "tags": []
   },
   "outputs": [
    {
     "name": "stdout",
     "output_type": "stream",
     "text": [
      "wrote config exp1_0_asof_2023-01-03T03:49:43.150191.json\n",
      "wrote config exp1_1_asof_2023-01-03T03:49:43.163941.json\n",
      "wrote config exp1_2_asof_2023-01-03T03:49:43.171434.json\n",
      "wrote config exp1_3_asof_2023-01-03T03:49:43.176800.json\n",
      "wrote config exp1_4_asof_2023-01-03T03:49:43.181847.json\n",
      "wrote config exp1_5_asof_2023-01-03T03:49:43.186874.json\n",
      "wrote config exp1_6_asof_2023-01-03T03:49:43.202977.json\n",
      "wrote config exp1_7_asof_2023-01-03T03:49:43.207649.json\n",
      "wrote config exp1_8_asof_2023-01-03T03:49:43.213042.json\n",
      "wrote config exp1_9_asof_2023-01-03T03:49:43.215772.json\n",
      "wrote config exp1_10_asof_2023-01-03T03:49:43.220977.json\n",
      "wrote config exp1_11_asof_2023-01-03T03:49:43.226226.json\n",
      "wrote config exp1_12_asof_2023-01-03T03:49:43.229382.json\n",
      "wrote config exp1_13_asof_2023-01-03T03:49:43.232556.json\n",
      "wrote config exp1_14_asof_2023-01-03T03:49:43.235656.json\n",
      "wrote config exp1_15_asof_2023-01-03T03:49:43.238889.json\n",
      "wrote config exp1_16_asof_2023-01-03T03:49:43.241917.json\n",
      "wrote config exp1_17_asof_2023-01-03T03:49:43.245203.json\n",
      "wrote config exp1_18_asof_2023-01-03T03:49:43.249458.json\n",
      "wrote config exp1_19_asof_2023-01-03T03:49:43.252839.json\n",
      "wrote config exp1_20_asof_2023-01-03T03:49:43.264498.json\n",
      "wrote config exp1_21_asof_2023-01-03T03:49:43.268363.json\n",
      "wrote config exp1_22_asof_2023-01-03T03:49:43.273285.json\n",
      "wrote config exp1_23_asof_2023-01-03T03:49:43.276610.json\n",
      "wrote config exp1_24_asof_2023-01-03T03:49:43.282275.json\n",
      "wrote config exp1_25_asof_2023-01-03T03:49:43.285685.json\n",
      "wrote config exp1_26_asof_2023-01-03T03:49:43.290643.json\n",
      "wrote config exp1_27_asof_2023-01-03T03:49:43.293688.json\n",
      "wrote config exp1_28_asof_2023-01-03T03:49:43.296817.json\n",
      "wrote config exp1_29_asof_2023-01-03T03:49:43.299344.json\n",
      "wrote config exp1_30_asof_2023-01-03T03:49:43.303539.json\n",
      "wrote config exp1_31_asof_2023-01-03T03:49:43.306310.json\n",
      "wrote config exp1_32_asof_2023-01-03T03:49:43.309686.json\n",
      "wrote config exp1_33_asof_2023-01-03T03:49:43.313411.json\n",
      "wrote config exp1_34_asof_2023-01-03T03:49:43.316733.json\n",
      "wrote config exp1_35_asof_2023-01-03T03:49:43.328368.json\n",
      "wrote config exp1_36_asof_2023-01-03T03:49:43.333299.json\n",
      "wrote config exp1_37_asof_2023-01-03T03:49:43.335761.json\n",
      "wrote config exp1_38_asof_2023-01-03T03:49:43.341644.json\n",
      "wrote config exp1_39_asof_2023-01-03T03:49:43.346588.json\n",
      "wrote config exp1_40_asof_2023-01-03T03:49:43.350320.json\n",
      "wrote config exp1_41_asof_2023-01-03T03:49:43.353262.json\n",
      "wrote config exp1_42_asof_2023-01-03T03:49:43.356710.json\n",
      "wrote config exp1_43_asof_2023-01-03T03:49:43.359580.json\n",
      "wrote config exp1_44_asof_2023-01-03T03:49:43.363339.json\n",
      "wrote config exp1_45_asof_2023-01-03T03:49:43.366880.json\n",
      "wrote config exp1_46_asof_2023-01-03T03:49:43.370064.json\n",
      "wrote config exp1_47_asof_2023-01-03T03:49:43.373198.json\n",
      "wrote config exp1_48_asof_2023-01-03T03:49:43.385748.json\n",
      "wrote config exp1_49_asof_2023-01-03T03:49:43.388556.json\n",
      "wrote config exp1_50_asof_2023-01-03T03:49:43.393388.json\n",
      "wrote config exp1_51_asof_2023-01-03T03:49:43.398683.json\n",
      "wrote config exp1_52_asof_2023-01-03T03:49:43.402338.json\n",
      "wrote config exp1_53_asof_2023-01-03T03:49:43.407029.json\n",
      "wrote config exp1_54_asof_2023-01-03T03:49:43.409754.json\n",
      "wrote config exp1_55_asof_2023-01-03T03:49:43.413053.json\n",
      "wrote config exp1_56_asof_2023-01-03T03:49:43.415953.json\n",
      "wrote config exp1_57_asof_2023-01-03T03:49:43.419574.json\n",
      "wrote config exp1_58_asof_2023-01-03T03:49:43.423096.json\n",
      "wrote config exp1_59_asof_2023-01-03T03:49:43.425851.json\n",
      "wrote config exp1_60_asof_2023-01-03T03:49:43.429223.json\n",
      "wrote config exp1_61_asof_2023-01-03T03:49:43.432958.json\n",
      "wrote config exp1_62_asof_2023-01-03T03:49:43.445194.json\n",
      "wrote config exp1_63_asof_2023-01-03T03:49:43.447910.json\n",
      "wrote config exp1_64_asof_2023-01-03T03:49:43.452535.json\n",
      "wrote config exp1_65_asof_2023-01-03T03:49:43.457937.json\n",
      "wrote config exp1_66_asof_2023-01-03T03:49:43.460959.json\n",
      "wrote config exp1_67_asof_2023-01-03T03:49:43.465937.json\n",
      "wrote config exp1_68_asof_2023-01-03T03:49:43.468804.json\n",
      "wrote config exp1_69_asof_2023-01-03T03:49:43.471937.json\n",
      "wrote config exp1_70_asof_2023-01-03T03:49:43.475297.json\n",
      "wrote config exp1_71_asof_2023-01-03T03:49:43.478372.json\n",
      "wrote config exp1_72_asof_2023-01-03T03:49:43.482075.json\n",
      "wrote config exp1_73_asof_2023-01-03T03:49:43.485677.json\n",
      "wrote config exp1_74_asof_2023-01-03T03:49:43.489944.json\n",
      "wrote config exp1_75_asof_2023-01-03T03:49:43.494425.json\n",
      "wrote config exp1_76_asof_2023-01-03T03:49:43.497853.json\n",
      "wrote config exp1_77_asof_2023-01-03T03:49:43.510992.json\n",
      "wrote config exp1_78_asof_2023-01-03T03:49:43.513663.json\n",
      "wrote config exp1_79_asof_2023-01-03T03:49:43.518411.json\n",
      "wrote config exp1_80_asof_2023-01-03T03:49:43.523495.json\n",
      "wrote config exp1_81_asof_2023-01-03T03:49:43.526437.json\n",
      "wrote config exp1_82_asof_2023-01-03T03:49:43.531795.json\n",
      "wrote config exp1_83_asof_2023-01-03T03:49:43.534511.json\n",
      "wrote config exp1_84_asof_2023-01-03T03:49:43.537797.json\n",
      "wrote config exp1_85_asof_2023-01-03T03:49:43.541190.json\n",
      "wrote config exp1_86_asof_2023-01-03T03:49:43.544599.json\n",
      "wrote config exp1_87_asof_2023-01-03T03:49:43.548378.json\n",
      "wrote config exp1_88_asof_2023-01-03T03:49:43.552303.json\n",
      "wrote config exp1_89_asof_2023-01-03T03:49:43.556848.json\n",
      "wrote config exp1_90_asof_2023-01-03T03:49:43.561284.json\n",
      "wrote config exp1_91_asof_2023-01-03T03:49:43.564993.json\n",
      "wrote config exp1_92_asof_2023-01-03T03:49:43.578427.json\n",
      "wrote config exp1_93_asof_2023-01-03T03:49:43.583540.json\n",
      "wrote config exp1_94_asof_2023-01-03T03:49:43.586710.json\n",
      "wrote config exp1_95_asof_2023-01-03T03:49:43.592508.json\n",
      "wrote config exp1_96_asof_2023-01-03T03:49:43.595247.json\n",
      "wrote config exp1_97_asof_2023-01-03T03:49:43.600256.json\n",
      "wrote config exp1_98_asof_2023-01-03T03:49:43.603109.json\n",
      "wrote config exp1_99_asof_2023-01-03T03:49:43.607713.json\n"
     ]
    }
   ],
   "source": [
    "import itertools\n",
    "\n",
    "for i, (n_ship, n_car) in enumerate(itertools.product(shipper_range, carrier_range)):\n",
    "    config = exp.ExperimentConfig(name=\"exp1_\"+str(i))\n",
    "    exp.write_config(config)\n",
    "\n"
   ]
  },
  {
   "cell_type": "code",
   "execution_count": 72,
   "id": "518e7d93-3dd6-4998-b64e-fe7e281a2f92",
   "metadata": {
    "collapsed": true,
    "jupyter": {
     "outputs_hidden": true
    },
    "tags": []
   },
   "outputs": [
    {
     "data": {
      "text/plain": [
       "[('exp1_0', None),\n",
       " ('exp1_1', None),\n",
       " ('exp1_2', None),\n",
       " ('exp1_3', None),\n",
       " ('exp1_4', None),\n",
       " ('exp1_5', None),\n",
       " ('exp1_6', None),\n",
       " ('exp1_7', None),\n",
       " ('exp1_8', None),\n",
       " ('exp1_9', None),\n",
       " ('exp1_10', None),\n",
       " ('exp1_11', None),\n",
       " ('exp1_12', None),\n",
       " ('exp1_13', None),\n",
       " ('exp1_14', None),\n",
       " ('exp1_15', None),\n",
       " ('exp1_16', None),\n",
       " ('exp1_17', None),\n",
       " ('exp1_18', None),\n",
       " ('exp1_19', None),\n",
       " ('exp1_20', None),\n",
       " ('exp1_21', None),\n",
       " ('exp1_22', None),\n",
       " ('exp1_23', None),\n",
       " ('exp1_24', None),\n",
       " ('exp1_25', None),\n",
       " ('exp1_26', None),\n",
       " ('exp1_27', None),\n",
       " ('exp1_28', None),\n",
       " ('exp1_29', None),\n",
       " ('exp1_30', None),\n",
       " ('exp1_31', None),\n",
       " ('exp1_32', None),\n",
       " ('exp1_33', None),\n",
       " ('exp1_34', None),\n",
       " ('exp1_35', None),\n",
       " ('exp1_36', None),\n",
       " ('exp1_37', None),\n",
       " ('exp1_38', None),\n",
       " ('exp1_39', None),\n",
       " ('exp1_40', None),\n",
       " ('exp1_41', None),\n",
       " ('exp1_42', None),\n",
       " ('exp1_43', None),\n",
       " ('exp1_44', None),\n",
       " ('exp1_45', None),\n",
       " ('exp1_46', None),\n",
       " ('exp1_47', None),\n",
       " ('exp1_48', None),\n",
       " ('exp1_49', None),\n",
       " ('exp1_50', None),\n",
       " ('exp1_51', None),\n",
       " ('exp1_52', None),\n",
       " ('exp1_53', None),\n",
       " ('exp1_54', None),\n",
       " ('exp1_55', None),\n",
       " ('exp1_56', None),\n",
       " ('exp1_57', None),\n",
       " ('exp1_58', None),\n",
       " ('exp1_59', None),\n",
       " ('exp1_60', None),\n",
       " ('exp1_61', None),\n",
       " ('exp1_62', None),\n",
       " ('exp1_63', None),\n",
       " ('exp1_64', None),\n",
       " ('exp1_65', None),\n",
       " ('exp1_66', None),\n",
       " ('exp1_67', None),\n",
       " ('exp1_68', None),\n",
       " ('exp1_69', None),\n",
       " ('exp1_70', None),\n",
       " ('exp1_71', None),\n",
       " ('exp1_72', None),\n",
       " ('exp1_73', None),\n",
       " ('exp1_74', None),\n",
       " ('exp1_75', None),\n",
       " ('exp1_76', None),\n",
       " ('exp1_77', None),\n",
       " ('exp1_78', None),\n",
       " ('exp1_79', None),\n",
       " ('exp1_80', None),\n",
       " ('exp1_81', None),\n",
       " ('exp1_82', None),\n",
       " ('exp1_83', None),\n",
       " ('exp1_84', None),\n",
       " ('exp1_85', None),\n",
       " ('exp1_86', None),\n",
       " ('exp1_87', None),\n",
       " ('exp1_88', None),\n",
       " ('exp1_89', None),\n",
       " ('exp1_90', None),\n",
       " ('exp1_91', None),\n",
       " ('exp1_92', None),\n",
       " ('exp1_93', None),\n",
       " ('exp1_94', None),\n",
       " ('exp1_95', None),\n",
       " ('exp1_96', None),\n",
       " ('exp1_97', None),\n",
       " ('exp1_98', None),\n",
       " ('exp1_99', None)]"
      ]
     },
     "execution_count": 72,
     "metadata": {},
     "output_type": "execute_result"
    }
   ],
   "source": [
    "[(\"exp1_\"+str(i),None) for i in range(100)]"
   ]
  },
  {
   "cell_type": "code",
   "execution_count": 73,
   "id": "5c683fdd-7bbc-44d4-813d-086b1e622499",
   "metadata": {
    "tags": []
   },
   "outputs": [],
   "source": [
    "runner = exp.ExperimentRunner()"
   ]
  },
  {
   "cell_type": "code",
   "execution_count": 74,
   "id": "8fc6dfa4-52b1-4701-b030-51a737abb612",
   "metadata": {},
   "outputs": [
    {
     "name": "stdout",
     "output_type": "stream",
     "text": [
      "loaded config exp1_0_asof_2023-01-03T03:49:43.150191.json\n"
     ]
    },
    {
     "name": "stderr",
     "output_type": "stream",
     "text": [
      "100%|██████████| 2000/2000 [02:14<00:00, 14.82it/s]\n"
     ]
    },
    {
     "name": "stdout",
     "output_type": "stream",
     "text": [
      "loaded config exp1_19_asof_2023-01-03T03:49:43.252839.json\n"
     ]
    },
    {
     "name": "stderr",
     "output_type": "stream",
     "text": [
      "100%|██████████| 2000/2000 [02:22<00:00, 14.05it/s]\n"
     ]
    },
    {
     "name": "stdout",
     "output_type": "stream",
     "text": [
      "loaded config exp1_29_asof_2023-01-03T03:49:43.299344.json\n"
     ]
    },
    {
     "name": "stderr",
     "output_type": "stream",
     "text": [
      "100%|██████████| 2000/2000 [02:17<00:00, 14.49it/s]\n"
     ]
    },
    {
     "name": "stdout",
     "output_type": "stream",
     "text": [
      "loaded config exp1_39_asof_2023-01-03T03:49:43.346588.json\n"
     ]
    },
    {
     "name": "stderr",
     "output_type": "stream",
     "text": [
      "100%|██████████| 2000/2000 [02:17<00:00, 14.57it/s]\n"
     ]
    },
    {
     "name": "stdout",
     "output_type": "stream",
     "text": [
      "loaded config exp1_49_asof_2023-01-03T03:49:43.388556.json\n"
     ]
    },
    {
     "name": "stderr",
     "output_type": "stream",
     "text": [
      "100%|██████████| 2000/2000 [02:19<00:00, 14.32it/s]\n"
     ]
    },
    {
     "name": "stdout",
     "output_type": "stream",
     "text": [
      "loaded config exp1_59_asof_2023-01-03T03:49:43.425851.json\n"
     ]
    },
    {
     "name": "stderr",
     "output_type": "stream",
     "text": [
      "100%|██████████| 2000/2000 [02:16<00:00, 14.65it/s]\n"
     ]
    },
    {
     "name": "stdout",
     "output_type": "stream",
     "text": [
      "loaded config exp1_69_asof_2023-01-03T03:49:43.471937.json\n"
     ]
    },
    {
     "name": "stderr",
     "output_type": "stream",
     "text": [
      "100%|██████████| 2000/2000 [02:21<00:00, 14.17it/s]\n"
     ]
    },
    {
     "name": "stdout",
     "output_type": "stream",
     "text": [
      "loaded config exp1_79_asof_2023-01-03T03:49:43.518411.json\n"
     ]
    },
    {
     "name": "stderr",
     "output_type": "stream",
     "text": [
      "100%|██████████| 2000/2000 [02:18<00:00, 14.45it/s]\n"
     ]
    },
    {
     "name": "stdout",
     "output_type": "stream",
     "text": [
      "loaded config exp1_89_asof_2023-01-03T03:49:43.556848.json\n"
     ]
    },
    {
     "name": "stderr",
     "output_type": "stream",
     "text": [
      "100%|██████████| 2000/2000 [02:16<00:00, 14.63it/s]\n"
     ]
    },
    {
     "name": "stdout",
     "output_type": "stream",
     "text": [
      "loaded config exp1_99_asof_2023-01-03T03:49:43.607713.json\n"
     ]
    },
    {
     "name": "stderr",
     "output_type": "stream",
     "text": [
      "100%|██████████| 2000/2000 [02:21<00:00, 14.13it/s]\n"
     ]
    },
    {
     "name": "stdout",
     "output_type": "stream",
     "text": [
      "loaded config exp1_10_asof_2023-01-03T03:49:43.220977.json\n"
     ]
    },
    {
     "name": "stderr",
     "output_type": "stream",
     "text": [
      "100%|██████████| 2000/2000 [02:20<00:00, 14.28it/s]\n"
     ]
    },
    {
     "name": "stdout",
     "output_type": "stream",
     "text": [
      "loaded config exp1_11_asof_2023-01-03T03:49:43.226226.json\n"
     ]
    },
    {
     "name": "stderr",
     "output_type": "stream",
     "text": [
      "100%|██████████| 2000/2000 [02:15<00:00, 14.71it/s]\n"
     ]
    },
    {
     "name": "stdout",
     "output_type": "stream",
     "text": [
      "loaded config exp1_12_asof_2023-01-03T03:49:43.229382.json\n"
     ]
    },
    {
     "name": "stderr",
     "output_type": "stream",
     "text": [
      "100%|██████████| 2000/2000 [02:15<00:00, 14.78it/s]\n"
     ]
    },
    {
     "name": "stdout",
     "output_type": "stream",
     "text": [
      "loaded config exp1_13_asof_2023-01-03T03:49:43.232556.json\n"
     ]
    },
    {
     "name": "stderr",
     "output_type": "stream",
     "text": [
      "100%|██████████| 2000/2000 [02:19<00:00, 14.33it/s]\n"
     ]
    },
    {
     "name": "stdout",
     "output_type": "stream",
     "text": [
      "loaded config exp1_14_asof_2023-01-03T03:49:43.235656.json\n"
     ]
    },
    {
     "name": "stderr",
     "output_type": "stream",
     "text": [
      "100%|██████████| 2000/2000 [02:27<00:00, 13.54it/s]\n"
     ]
    },
    {
     "name": "stdout",
     "output_type": "stream",
     "text": [
      "loaded config exp1_15_asof_2023-01-03T03:49:43.238889.json\n"
     ]
    },
    {
     "name": "stderr",
     "output_type": "stream",
     "text": [
      "100%|██████████| 2000/2000 [02:23<00:00, 13.90it/s]\n"
     ]
    },
    {
     "name": "stdout",
     "output_type": "stream",
     "text": [
      "loaded config exp1_16_asof_2023-01-03T03:49:43.241917.json\n"
     ]
    },
    {
     "name": "stderr",
     "output_type": "stream",
     "text": [
      "100%|██████████| 2000/2000 [02:26<00:00, 13.67it/s]\n"
     ]
    },
    {
     "name": "stdout",
     "output_type": "stream",
     "text": [
      "loaded config exp1_17_asof_2023-01-03T03:49:43.245203.json\n"
     ]
    },
    {
     "name": "stderr",
     "output_type": "stream",
     "text": [
      "100%|██████████| 2000/2000 [02:21<00:00, 14.09it/s]\n"
     ]
    },
    {
     "name": "stdout",
     "output_type": "stream",
     "text": [
      "loaded config exp1_18_asof_2023-01-03T03:49:43.249458.json\n"
     ]
    },
    {
     "name": "stderr",
     "output_type": "stream",
     "text": [
      "100%|██████████| 2000/2000 [02:22<00:00, 14.05it/s]\n"
     ]
    },
    {
     "name": "stdout",
     "output_type": "stream",
     "text": [
      "loaded config exp1_19_asof_2023-01-03T03:49:43.252839.json\n"
     ]
    },
    {
     "name": "stderr",
     "output_type": "stream",
     "text": [
      "100%|██████████| 2000/2000 [02:22<00:00, 14.02it/s]\n"
     ]
    },
    {
     "name": "stdout",
     "output_type": "stream",
     "text": [
      "loaded config exp1_20_asof_2023-01-03T03:49:43.264498.json\n"
     ]
    },
    {
     "name": "stderr",
     "output_type": "stream",
     "text": [
      "100%|██████████| 2000/2000 [02:15<00:00, 14.71it/s]\n"
     ]
    },
    {
     "name": "stdout",
     "output_type": "stream",
     "text": [
      "loaded config exp1_21_asof_2023-01-03T03:49:43.268363.json\n"
     ]
    },
    {
     "name": "stderr",
     "output_type": "stream",
     "text": [
      "100%|██████████| 2000/2000 [02:19<00:00, 14.34it/s]\n"
     ]
    },
    {
     "name": "stdout",
     "output_type": "stream",
     "text": [
      "loaded config exp1_22_asof_2023-01-03T03:49:43.273285.json\n"
     ]
    },
    {
     "name": "stderr",
     "output_type": "stream",
     "text": [
      "100%|██████████| 2000/2000 [02:26<00:00, 13.70it/s]\n"
     ]
    },
    {
     "name": "stdout",
     "output_type": "stream",
     "text": [
      "loaded config exp1_23_asof_2023-01-03T03:49:43.276610.json\n"
     ]
    },
    {
     "name": "stderr",
     "output_type": "stream",
     "text": [
      "100%|██████████| 2000/2000 [02:23<00:00, 13.90it/s]\n"
     ]
    },
    {
     "name": "stdout",
     "output_type": "stream",
     "text": [
      "loaded config exp1_24_asof_2023-01-03T03:49:43.282275.json\n"
     ]
    },
    {
     "name": "stderr",
     "output_type": "stream",
     "text": [
      "100%|██████████| 2000/2000 [02:29<00:00, 13.39it/s]\n"
     ]
    },
    {
     "name": "stdout",
     "output_type": "stream",
     "text": [
      "loaded config exp1_25_asof_2023-01-03T03:49:43.285685.json\n"
     ]
    },
    {
     "name": "stderr",
     "output_type": "stream",
     "text": [
      "100%|██████████| 2000/2000 [02:30<00:00, 13.27it/s]\n"
     ]
    },
    {
     "name": "stdout",
     "output_type": "stream",
     "text": [
      "loaded config exp1_26_asof_2023-01-03T03:49:43.290643.json\n"
     ]
    },
    {
     "name": "stderr",
     "output_type": "stream",
     "text": [
      "100%|██████████| 2000/2000 [02:27<00:00, 13.52it/s]\n"
     ]
    },
    {
     "name": "stdout",
     "output_type": "stream",
     "text": [
      "loaded config exp1_27_asof_2023-01-03T03:49:43.293688.json\n"
     ]
    },
    {
     "name": "stderr",
     "output_type": "stream",
     "text": [
      "100%|██████████| 2000/2000 [02:25<00:00, 13.73it/s]\n"
     ]
    },
    {
     "name": "stdout",
     "output_type": "stream",
     "text": [
      "loaded config exp1_28_asof_2023-01-03T03:49:43.296817.json\n"
     ]
    },
    {
     "name": "stderr",
     "output_type": "stream",
     "text": [
      "100%|██████████| 2000/2000 [02:24<00:00, 13.86it/s]\n"
     ]
    },
    {
     "name": "stdout",
     "output_type": "stream",
     "text": [
      "loaded config exp1_29_asof_2023-01-03T03:49:43.299344.json\n"
     ]
    },
    {
     "name": "stderr",
     "output_type": "stream",
     "text": [
      "100%|██████████| 2000/2000 [02:22<00:00, 14.02it/s]\n"
     ]
    },
    {
     "name": "stdout",
     "output_type": "stream",
     "text": [
      "loaded config exp1_30_asof_2023-01-03T03:49:43.303539.json\n"
     ]
    },
    {
     "name": "stderr",
     "output_type": "stream",
     "text": [
      "100%|██████████| 2000/2000 [02:20<00:00, 14.19it/s]\n"
     ]
    },
    {
     "name": "stdout",
     "output_type": "stream",
     "text": [
      "loaded config exp1_31_asof_2023-01-03T03:49:43.306310.json\n"
     ]
    },
    {
     "name": "stderr",
     "output_type": "stream",
     "text": [
      "100%|██████████| 2000/2000 [02:23<00:00, 13.91it/s]\n"
     ]
    },
    {
     "name": "stdout",
     "output_type": "stream",
     "text": [
      "loaded config exp1_32_asof_2023-01-03T03:49:43.309686.json\n"
     ]
    },
    {
     "name": "stderr",
     "output_type": "stream",
     "text": [
      "100%|██████████| 2000/2000 [02:22<00:00, 14.08it/s]\n"
     ]
    },
    {
     "name": "stdout",
     "output_type": "stream",
     "text": [
      "loaded config exp1_33_asof_2023-01-03T03:49:43.313411.json\n"
     ]
    },
    {
     "name": "stderr",
     "output_type": "stream",
     "text": [
      "100%|██████████| 2000/2000 [02:24<00:00, 13.81it/s]\n"
     ]
    },
    {
     "name": "stdout",
     "output_type": "stream",
     "text": [
      "loaded config exp1_34_asof_2023-01-03T03:49:43.316733.json\n"
     ]
    },
    {
     "name": "stderr",
     "output_type": "stream",
     "text": [
      "100%|██████████| 2000/2000 [02:26<00:00, 13.65it/s]\n"
     ]
    },
    {
     "name": "stdout",
     "output_type": "stream",
     "text": [
      "loaded config exp1_35_asof_2023-01-03T03:49:43.328368.json\n"
     ]
    },
    {
     "name": "stderr",
     "output_type": "stream",
     "text": [
      "100%|██████████| 2000/2000 [02:19<00:00, 14.29it/s]\n"
     ]
    },
    {
     "name": "stdout",
     "output_type": "stream",
     "text": [
      "loaded config exp1_36_asof_2023-01-03T03:49:43.333299.json\n"
     ]
    },
    {
     "name": "stderr",
     "output_type": "stream",
     "text": [
      "100%|██████████| 2000/2000 [02:21<00:00, 14.11it/s]\n"
     ]
    },
    {
     "name": "stdout",
     "output_type": "stream",
     "text": [
      "loaded config exp1_37_asof_2023-01-03T03:49:43.335761.json\n"
     ]
    },
    {
     "name": "stderr",
     "output_type": "stream",
     "text": [
      "100%|██████████| 2000/2000 [02:31<00:00, 13.24it/s]\n"
     ]
    },
    {
     "name": "stdout",
     "output_type": "stream",
     "text": [
      "loaded config exp1_38_asof_2023-01-03T03:49:43.341644.json\n"
     ]
    },
    {
     "name": "stderr",
     "output_type": "stream",
     "text": [
      "100%|██████████| 2000/2000 [02:26<00:00, 13.69it/s]\n"
     ]
    },
    {
     "name": "stdout",
     "output_type": "stream",
     "text": [
      "loaded config exp1_39_asof_2023-01-03T03:49:43.346588.json\n"
     ]
    },
    {
     "name": "stderr",
     "output_type": "stream",
     "text": [
      "100%|██████████| 2000/2000 [02:27<00:00, 13.52it/s]\n"
     ]
    },
    {
     "name": "stdout",
     "output_type": "stream",
     "text": [
      "loaded config exp1_40_asof_2023-01-03T03:49:43.350320.json\n"
     ]
    },
    {
     "name": "stderr",
     "output_type": "stream",
     "text": [
      "100%|██████████| 2000/2000 [02:24<00:00, 13.83it/s]\n"
     ]
    },
    {
     "name": "stdout",
     "output_type": "stream",
     "text": [
      "loaded config exp1_41_asof_2023-01-03T03:49:43.353262.json\n"
     ]
    },
    {
     "name": "stderr",
     "output_type": "stream",
     "text": [
      "100%|██████████| 2000/2000 [02:32<00:00, 13.10it/s]\n"
     ]
    },
    {
     "name": "stdout",
     "output_type": "stream",
     "text": [
      "loaded config exp1_42_asof_2023-01-03T03:49:43.356710.json\n"
     ]
    },
    {
     "name": "stderr",
     "output_type": "stream",
     "text": [
      "100%|██████████| 2000/2000 [02:25<00:00, 13.73it/s]\n"
     ]
    },
    {
     "name": "stdout",
     "output_type": "stream",
     "text": [
      "loaded config exp1_43_asof_2023-01-03T03:49:43.359580.json\n"
     ]
    },
    {
     "name": "stderr",
     "output_type": "stream",
     "text": [
      "100%|██████████| 2000/2000 [20:01<00:00,  1.67it/s]   \n"
     ]
    },
    {
     "name": "stdout",
     "output_type": "stream",
     "text": [
      "loaded config exp1_44_asof_2023-01-03T03:49:43.363339.json\n"
     ]
    },
    {
     "name": "stderr",
     "output_type": "stream",
     "text": [
      "100%|██████████| 2000/2000 [02:15<00:00, 14.72it/s]\n"
     ]
    },
    {
     "name": "stdout",
     "output_type": "stream",
     "text": [
      "loaded config exp1_45_asof_2023-01-03T03:49:43.366880.json\n"
     ]
    },
    {
     "name": "stderr",
     "output_type": "stream",
     "text": [
      "100%|██████████| 2000/2000 [02:18<00:00, 14.45it/s]\n"
     ]
    },
    {
     "name": "stdout",
     "output_type": "stream",
     "text": [
      "loaded config exp1_46_asof_2023-01-03T03:49:43.370064.json\n"
     ]
    },
    {
     "name": "stderr",
     "output_type": "stream",
     "text": [
      "100%|██████████| 2000/2000 [02:16<00:00, 14.68it/s]\n"
     ]
    },
    {
     "name": "stdout",
     "output_type": "stream",
     "text": [
      "loaded config exp1_47_asof_2023-01-03T03:49:43.373198.json\n"
     ]
    },
    {
     "name": "stderr",
     "output_type": "stream",
     "text": [
      "100%|██████████| 2000/2000 [02:15<00:00, 14.73it/s]\n"
     ]
    },
    {
     "name": "stdout",
     "output_type": "stream",
     "text": [
      "loaded config exp1_48_asof_2023-01-03T03:49:43.385748.json\n"
     ]
    },
    {
     "name": "stderr",
     "output_type": "stream",
     "text": [
      "100%|██████████| 2000/2000 [02:18<00:00, 14.43it/s]\n"
     ]
    },
    {
     "name": "stdout",
     "output_type": "stream",
     "text": [
      "loaded config exp1_49_asof_2023-01-03T03:49:43.388556.json\n"
     ]
    },
    {
     "name": "stderr",
     "output_type": "stream",
     "text": [
      "100%|██████████| 2000/2000 [02:15<00:00, 14.71it/s]\n"
     ]
    },
    {
     "name": "stdout",
     "output_type": "stream",
     "text": [
      "loaded config exp1_50_asof_2023-01-03T03:49:43.393388.json\n"
     ]
    },
    {
     "name": "stderr",
     "output_type": "stream",
     "text": [
      "100%|██████████| 2000/2000 [02:17<00:00, 14.55it/s]\n"
     ]
    },
    {
     "name": "stdout",
     "output_type": "stream",
     "text": [
      "loaded config exp1_51_asof_2023-01-03T03:49:43.398683.json\n"
     ]
    },
    {
     "name": "stderr",
     "output_type": "stream",
     "text": [
      "100%|██████████| 2000/2000 [02:16<00:00, 14.65it/s]\n"
     ]
    },
    {
     "name": "stdout",
     "output_type": "stream",
     "text": [
      "loaded config exp1_52_asof_2023-01-03T03:49:43.402338.json\n"
     ]
    },
    {
     "name": "stderr",
     "output_type": "stream",
     "text": [
      "100%|██████████| 2000/2000 [02:15<00:00, 14.72it/s]\n"
     ]
    },
    {
     "name": "stdout",
     "output_type": "stream",
     "text": [
      "loaded config exp1_53_asof_2023-01-03T03:49:43.407029.json\n"
     ]
    },
    {
     "name": "stderr",
     "output_type": "stream",
     "text": [
      "100%|██████████| 2000/2000 [02:17<00:00, 14.50it/s]\n"
     ]
    },
    {
     "name": "stdout",
     "output_type": "stream",
     "text": [
      "loaded config exp1_54_asof_2023-01-03T03:49:43.409754.json\n"
     ]
    },
    {
     "name": "stderr",
     "output_type": "stream",
     "text": [
      "100%|██████████| 2000/2000 [02:16<00:00, 14.68it/s]\n"
     ]
    },
    {
     "name": "stdout",
     "output_type": "stream",
     "text": [
      "loaded config exp1_55_asof_2023-01-03T03:49:43.413053.json\n"
     ]
    },
    {
     "name": "stderr",
     "output_type": "stream",
     "text": [
      "100%|██████████| 2000/2000 [02:18<00:00, 14.48it/s]\n"
     ]
    },
    {
     "name": "stdout",
     "output_type": "stream",
     "text": [
      "loaded config exp1_56_asof_2023-01-03T03:49:43.415953.json\n"
     ]
    },
    {
     "name": "stderr",
     "output_type": "stream",
     "text": [
      "100%|██████████| 2000/2000 [02:16<00:00, 14.62it/s]\n"
     ]
    },
    {
     "name": "stdout",
     "output_type": "stream",
     "text": [
      "loaded config exp1_57_asof_2023-01-03T03:49:43.419574.json\n"
     ]
    },
    {
     "name": "stderr",
     "output_type": "stream",
     "text": [
      "100%|██████████| 2000/2000 [02:16<00:00, 14.70it/s]\n"
     ]
    },
    {
     "name": "stdout",
     "output_type": "stream",
     "text": [
      "loaded config exp1_58_asof_2023-01-03T03:49:43.423096.json\n"
     ]
    },
    {
     "name": "stderr",
     "output_type": "stream",
     "text": [
      "100%|██████████| 2000/2000 [02:15<00:00, 14.71it/s]\n"
     ]
    },
    {
     "name": "stdout",
     "output_type": "stream",
     "text": [
      "loaded config exp1_59_asof_2023-01-03T03:49:43.425851.json\n"
     ]
    },
    {
     "name": "stderr",
     "output_type": "stream",
     "text": [
      "100%|██████████| 2000/2000 [02:14<00:00, 14.87it/s]\n"
     ]
    },
    {
     "name": "stdout",
     "output_type": "stream",
     "text": [
      "loaded config exp1_60_asof_2023-01-03T03:49:43.429223.json\n"
     ]
    },
    {
     "name": "stderr",
     "output_type": "stream",
     "text": [
      "100%|██████████| 2000/2000 [02:18<00:00, 14.48it/s]\n"
     ]
    },
    {
     "name": "stdout",
     "output_type": "stream",
     "text": [
      "loaded config exp1_61_asof_2023-01-03T03:49:43.432958.json\n"
     ]
    },
    {
     "name": "stderr",
     "output_type": "stream",
     "text": [
      "100%|██████████| 2000/2000 [02:20<00:00, 14.23it/s]\n"
     ]
    },
    {
     "name": "stdout",
     "output_type": "stream",
     "text": [
      "loaded config exp1_62_asof_2023-01-03T03:49:43.445194.json\n"
     ]
    },
    {
     "name": "stderr",
     "output_type": "stream",
     "text": [
      "100%|██████████| 2000/2000 [02:16<00:00, 14.63it/s]\n"
     ]
    },
    {
     "name": "stdout",
     "output_type": "stream",
     "text": [
      "loaded config exp1_63_asof_2023-01-03T03:49:43.447910.json\n"
     ]
    },
    {
     "name": "stderr",
     "output_type": "stream",
     "text": [
      "100%|██████████| 2000/2000 [02:14<00:00, 14.86it/s]\n"
     ]
    },
    {
     "name": "stdout",
     "output_type": "stream",
     "text": [
      "loaded config exp1_64_asof_2023-01-03T03:49:43.452535.json\n"
     ]
    },
    {
     "name": "stderr",
     "output_type": "stream",
     "text": [
      "100%|██████████| 2000/2000 [02:19<00:00, 14.34it/s]\n"
     ]
    },
    {
     "name": "stdout",
     "output_type": "stream",
     "text": [
      "loaded config exp1_65_asof_2023-01-03T03:49:43.457937.json\n"
     ]
    },
    {
     "name": "stderr",
     "output_type": "stream",
     "text": [
      "100%|██████████| 2000/2000 [02:30<00:00, 13.25it/s]\n"
     ]
    },
    {
     "name": "stdout",
     "output_type": "stream",
     "text": [
      "loaded config exp1_66_asof_2023-01-03T03:49:43.460959.json\n"
     ]
    },
    {
     "name": "stderr",
     "output_type": "stream",
     "text": [
      "100%|██████████| 2000/2000 [02:26<00:00, 13.69it/s]\n"
     ]
    },
    {
     "name": "stdout",
     "output_type": "stream",
     "text": [
      "loaded config exp1_67_asof_2023-01-03T03:49:43.465937.json\n"
     ]
    },
    {
     "name": "stderr",
     "output_type": "stream",
     "text": [
      "100%|██████████| 2000/2000 [02:29<00:00, 13.36it/s]\n"
     ]
    },
    {
     "name": "stdout",
     "output_type": "stream",
     "text": [
      "loaded config exp1_68_asof_2023-01-03T03:49:43.468804.json\n"
     ]
    },
    {
     "name": "stderr",
     "output_type": "stream",
     "text": [
      "100%|██████████| 2000/2000 [02:29<00:00, 13.39it/s]\n"
     ]
    },
    {
     "name": "stdout",
     "output_type": "stream",
     "text": [
      "loaded config exp1_69_asof_2023-01-03T03:49:43.471937.json\n"
     ]
    },
    {
     "name": "stderr",
     "output_type": "stream",
     "text": [
      "100%|██████████| 2000/2000 [02:31<00:00, 13.21it/s]\n"
     ]
    },
    {
     "name": "stdout",
     "output_type": "stream",
     "text": [
      "loaded config exp1_70_asof_2023-01-03T03:49:43.475297.json\n"
     ]
    },
    {
     "name": "stderr",
     "output_type": "stream",
     "text": [
      "100%|██████████| 2000/2000 [02:30<00:00, 13.28it/s]\n"
     ]
    },
    {
     "name": "stdout",
     "output_type": "stream",
     "text": [
      "loaded config exp1_71_asof_2023-01-03T03:49:43.478372.json\n"
     ]
    },
    {
     "name": "stderr",
     "output_type": "stream",
     "text": [
      "100%|██████████| 2000/2000 [02:28<00:00, 13.44it/s]\n"
     ]
    },
    {
     "name": "stdout",
     "output_type": "stream",
     "text": [
      "loaded config exp1_72_asof_2023-01-03T03:49:43.482075.json\n"
     ]
    },
    {
     "name": "stderr",
     "output_type": "stream",
     "text": [
      "100%|██████████| 2000/2000 [02:34<00:00, 12.91it/s]\n"
     ]
    },
    {
     "name": "stdout",
     "output_type": "stream",
     "text": [
      "loaded config exp1_73_asof_2023-01-03T03:49:43.485677.json\n"
     ]
    },
    {
     "name": "stderr",
     "output_type": "stream",
     "text": [
      "100%|██████████| 2000/2000 [02:29<00:00, 13.42it/s]\n"
     ]
    },
    {
     "name": "stdout",
     "output_type": "stream",
     "text": [
      "loaded config exp1_74_asof_2023-01-03T03:49:43.489944.json\n"
     ]
    },
    {
     "name": "stderr",
     "output_type": "stream",
     "text": [
      "100%|██████████| 2000/2000 [02:31<00:00, 13.17it/s]\n"
     ]
    },
    {
     "name": "stdout",
     "output_type": "stream",
     "text": [
      "loaded config exp1_75_asof_2023-01-03T03:49:43.494425.json\n"
     ]
    },
    {
     "name": "stderr",
     "output_type": "stream",
     "text": [
      "100%|██████████| 2000/2000 [02:31<00:00, 13.19it/s]\n"
     ]
    },
    {
     "name": "stdout",
     "output_type": "stream",
     "text": [
      "loaded config exp1_76_asof_2023-01-03T03:49:43.497853.json\n"
     ]
    },
    {
     "name": "stderr",
     "output_type": "stream",
     "text": [
      "100%|██████████| 2000/2000 [02:29<00:00, 13.37it/s]\n"
     ]
    },
    {
     "name": "stdout",
     "output_type": "stream",
     "text": [
      "loaded config exp1_77_asof_2023-01-03T03:49:43.510992.json\n"
     ]
    },
    {
     "name": "stderr",
     "output_type": "stream",
     "text": [
      "100%|██████████| 2000/2000 [02:30<00:00, 13.28it/s]\n"
     ]
    },
    {
     "name": "stdout",
     "output_type": "stream",
     "text": [
      "loaded config exp1_78_asof_2023-01-03T03:49:43.513663.json\n"
     ]
    },
    {
     "name": "stderr",
     "output_type": "stream",
     "text": [
      "100%|██████████| 2000/2000 [02:28<00:00, 13.43it/s]\n"
     ]
    },
    {
     "name": "stdout",
     "output_type": "stream",
     "text": [
      "loaded config exp1_79_asof_2023-01-03T03:49:43.518411.json\n"
     ]
    },
    {
     "name": "stderr",
     "output_type": "stream",
     "text": [
      "100%|██████████| 2000/2000 [02:29<00:00, 13.38it/s]\n"
     ]
    },
    {
     "name": "stdout",
     "output_type": "stream",
     "text": [
      "loaded config exp1_80_asof_2023-01-03T03:49:43.523495.json\n"
     ]
    },
    {
     "name": "stderr",
     "output_type": "stream",
     "text": [
      "100%|██████████| 2000/2000 [02:30<00:00, 13.25it/s]\n"
     ]
    },
    {
     "name": "stdout",
     "output_type": "stream",
     "text": [
      "loaded config exp1_81_asof_2023-01-03T03:49:43.526437.json\n"
     ]
    },
    {
     "name": "stderr",
     "output_type": "stream",
     "text": [
      "100%|██████████| 2000/2000 [02:32<00:00, 13.10it/s]\n"
     ]
    },
    {
     "name": "stdout",
     "output_type": "stream",
     "text": [
      "loaded config exp1_82_asof_2023-01-03T03:49:43.531795.json\n"
     ]
    },
    {
     "name": "stderr",
     "output_type": "stream",
     "text": [
      "100%|██████████| 2000/2000 [02:31<00:00, 13.17it/s]\n"
     ]
    },
    {
     "name": "stdout",
     "output_type": "stream",
     "text": [
      "loaded config exp1_83_asof_2023-01-03T03:49:43.534511.json\n"
     ]
    },
    {
     "name": "stderr",
     "output_type": "stream",
     "text": [
      "100%|██████████| 2000/2000 [02:30<00:00, 13.26it/s]\n"
     ]
    },
    {
     "name": "stdout",
     "output_type": "stream",
     "text": [
      "loaded config exp1_84_asof_2023-01-03T03:49:43.537797.json\n"
     ]
    },
    {
     "name": "stderr",
     "output_type": "stream",
     "text": [
      "100%|██████████| 2000/2000 [02:30<00:00, 13.31it/s]\n"
     ]
    },
    {
     "name": "stdout",
     "output_type": "stream",
     "text": [
      "loaded config exp1_85_asof_2023-01-03T03:49:43.541190.json\n"
     ]
    },
    {
     "name": "stderr",
     "output_type": "stream",
     "text": [
      "100%|██████████| 2000/2000 [02:33<00:00, 13.02it/s]\n"
     ]
    },
    {
     "name": "stdout",
     "output_type": "stream",
     "text": [
      "loaded config exp1_86_asof_2023-01-03T03:49:43.544599.json\n"
     ]
    },
    {
     "name": "stderr",
     "output_type": "stream",
     "text": [
      "100%|██████████| 2000/2000 [02:31<00:00, 13.19it/s]\n"
     ]
    },
    {
     "name": "stdout",
     "output_type": "stream",
     "text": [
      "loaded config exp1_87_asof_2023-01-03T03:49:43.548378.json\n"
     ]
    },
    {
     "name": "stderr",
     "output_type": "stream",
     "text": [
      "100%|██████████| 2000/2000 [02:32<00:00, 13.11it/s]\n"
     ]
    },
    {
     "name": "stdout",
     "output_type": "stream",
     "text": [
      "loaded config exp1_88_asof_2023-01-03T03:49:43.552303.json\n"
     ]
    },
    {
     "name": "stderr",
     "output_type": "stream",
     "text": [
      "100%|██████████| 2000/2000 [02:31<00:00, 13.23it/s]\n"
     ]
    },
    {
     "name": "stdout",
     "output_type": "stream",
     "text": [
      "loaded config exp1_89_asof_2023-01-03T03:49:43.556848.json\n"
     ]
    },
    {
     "name": "stderr",
     "output_type": "stream",
     "text": [
      "100%|██████████| 2000/2000 [02:31<00:00, 13.17it/s]\n"
     ]
    },
    {
     "name": "stdout",
     "output_type": "stream",
     "text": [
      "loaded config exp1_90_asof_2023-01-03T03:49:43.561284.json\n"
     ]
    },
    {
     "name": "stderr",
     "output_type": "stream",
     "text": [
      "100%|██████████| 2000/2000 [02:31<00:00, 13.18it/s]\n"
     ]
    },
    {
     "name": "stdout",
     "output_type": "stream",
     "text": [
      "loaded config exp1_91_asof_2023-01-03T03:49:43.564993.json\n"
     ]
    },
    {
     "name": "stderr",
     "output_type": "stream",
     "text": [
      "100%|██████████| 2000/2000 [02:32<00:00, 13.10it/s]\n"
     ]
    },
    {
     "name": "stdout",
     "output_type": "stream",
     "text": [
      "loaded config exp1_92_asof_2023-01-03T03:49:43.578427.json\n"
     ]
    },
    {
     "name": "stderr",
     "output_type": "stream",
     "text": [
      "100%|██████████| 2000/2000 [02:32<00:00, 13.13it/s]\n"
     ]
    },
    {
     "name": "stdout",
     "output_type": "stream",
     "text": [
      "loaded config exp1_93_asof_2023-01-03T03:49:43.583540.json\n"
     ]
    },
    {
     "name": "stderr",
     "output_type": "stream",
     "text": [
      "100%|██████████| 2000/2000 [02:35<00:00, 12.84it/s]\n"
     ]
    },
    {
     "name": "stdout",
     "output_type": "stream",
     "text": [
      "loaded config exp1_94_asof_2023-01-03T03:49:43.586710.json\n"
     ]
    },
    {
     "name": "stderr",
     "output_type": "stream",
     "text": [
      "100%|██████████| 2000/2000 [02:31<00:00, 13.20it/s]\n"
     ]
    },
    {
     "name": "stdout",
     "output_type": "stream",
     "text": [
      "loaded config exp1_95_asof_2023-01-03T03:49:43.592508.json\n"
     ]
    },
    {
     "name": "stderr",
     "output_type": "stream",
     "text": [
      "100%|██████████| 2000/2000 [02:31<00:00, 13.19it/s]\n"
     ]
    },
    {
     "name": "stdout",
     "output_type": "stream",
     "text": [
      "loaded config exp1_96_asof_2023-01-03T03:49:43.595247.json\n"
     ]
    },
    {
     "name": "stderr",
     "output_type": "stream",
     "text": [
      "100%|██████████| 2000/2000 [02:34<00:00, 12.92it/s]\n"
     ]
    },
    {
     "name": "stdout",
     "output_type": "stream",
     "text": [
      "loaded config exp1_97_asof_2023-01-03T03:49:43.600256.json\n"
     ]
    },
    {
     "name": "stderr",
     "output_type": "stream",
     "text": [
      "100%|██████████| 2000/2000 [02:30<00:00, 13.33it/s]\n"
     ]
    },
    {
     "name": "stdout",
     "output_type": "stream",
     "text": [
      "loaded config exp1_98_asof_2023-01-03T03:49:43.603109.json\n"
     ]
    },
    {
     "name": "stderr",
     "output_type": "stream",
     "text": [
      "100%|██████████| 2000/2000 [02:33<00:00, 13.04it/s]\n"
     ]
    },
    {
     "name": "stdout",
     "output_type": "stream",
     "text": [
      "loaded config exp1_99_asof_2023-01-03T03:49:43.607713.json\n"
     ]
    },
    {
     "name": "stderr",
     "output_type": "stream",
     "text": [
      "100%|██████████| 2000/2000 [02:32<00:00, 13.09it/s]\n"
     ]
    }
   ],
   "source": [
    "runner.run_experiments(config_list=[(\"exp1_\"+str(i),None) for i in range(100)],n_steps=2000)"
   ]
  }
 ],
 "metadata": {
  "kernelspec": {
   "display_name": "Python 3 (ipykernel)",
   "language": "python",
   "name": "python3"
  },
  "language_info": {
   "codemirror_mode": {
    "name": "ipython",
    "version": 3
   },
   "file_extension": ".py",
   "mimetype": "text/x-python",
   "name": "python",
   "nbconvert_exporter": "python",
   "pygments_lexer": "ipython3",
   "version": "3.10.8"
  }
 },
 "nbformat": 4,
 "nbformat_minor": 5
}
