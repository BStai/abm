{
 "cells": [
  {
   "cell_type": "code",
   "execution_count": 1,
   "id": "e90afbcc-3aa6-4ec1-9c44-5c3418448e0e",
   "metadata": {},
   "outputs": [],
   "source": [
    "%load_ext autoreload\n",
    "%autoreload 2"
   ]
  },
  {
   "cell_type": "code",
   "execution_count": 2,
   "id": "fbf9a944-c97a-4734-ad7a-728ca8cdbca5",
   "metadata": {},
   "outputs": [],
   "source": [
    "import pandas as pd\n",
    "import mesa\n",
    "from tqdm.notebook import tqdm, trange\n",
    "import src.py.util as util"
   ]
  },
  {
   "cell_type": "code",
   "execution_count": 6,
   "id": "085e894c-7acc-48bb-b2c7-c1b146be1813",
   "metadata": {},
   "outputs": [
    {
     "name": "stdout",
     "output_type": "stream",
     "text": [
      "wrote config test_asof_2023-01-02T21:55:04.370698.json\n"
     ]
    }
   ],
   "source": [
    "test_config = {\n",
    "    \"name\":\"test\",\n",
    "    \"info\":\"other data\",\n",
    "    \"carrier_speed_per_tick\":3\n",
    "}\n",
    "\n",
    "util.write_config(test_config)"
   ]
  },
  {
   "cell_type": "code",
   "execution_count": 7,
   "id": "98a05aeb-7cdd-4cda-9ddb-735abe9d1dbb",
   "metadata": {},
   "outputs": [
    {
     "name": "stdout",
     "output_type": "stream",
     "text": [
      "loaded config test_asof_2023-01-02T21:55:04.370698.json\n"
     ]
    }
   ],
   "source": [
    "conf = util.load_config(\"test\",\"2023-01-02\")"
   ]
  },
  {
   "cell_type": "code",
   "execution_count": 8,
   "id": "a3c42b21-67cf-4bb2-85ab-13f917ab024d",
   "metadata": {},
   "outputs": [
    {
     "data": {
      "text/plain": [
       "{'name': 'test', 'info': 'other data', 'carrier_speed_per_tick': 3}"
      ]
     },
     "execution_count": 8,
     "metadata": {},
     "output_type": "execute_result"
    }
   ],
   "source": [
    "util.CONFIG"
   ]
  },
  {
   "cell_type": "code",
   "execution_count": 9,
   "id": "c4f15717-49ef-4c59-a37f-6f12cab21900",
   "metadata": {},
   "outputs": [],
   "source": [
    "from src.py.model import FreightMarketModel"
   ]
  },
  {
   "cell_type": "code",
   "execution_count": 10,
   "id": "3776485e-1075-4ee1-baa4-ef826f1e7cbf",
   "metadata": {},
   "outputs": [
    {
     "data": {
      "application/vnd.jupyter.widget-view+json": {
       "model_id": "663fe2dc456844379c7c5d38e9380ae1",
       "version_major": 2,
       "version_minor": 0
      },
      "text/plain": [
       "  0%|          | 0/5 [00:00<?, ?it/s]"
      ]
     },
     "metadata": {},
     "output_type": "display_data"
    }
   ],
   "source": [
    "model = FreightMarketModel(n_shippers=50, n_carriers=400, width=40, height=10)\n",
    "for i in trange(5):\n",
    "    model.step()"
   ]
  }
 ],
 "metadata": {
  "kernelspec": {
   "display_name": "Python 3 (ipykernel)",
   "language": "python",
   "name": "python3"
  },
  "language_info": {
   "codemirror_mode": {
    "name": "ipython",
    "version": 3
   },
   "file_extension": ".py",
   "mimetype": "text/x-python",
   "name": "python",
   "nbconvert_exporter": "python",
   "pygments_lexer": "ipython3",
   "version": "3.10.8"
  }
 },
 "nbformat": 4,
 "nbformat_minor": 5
}
