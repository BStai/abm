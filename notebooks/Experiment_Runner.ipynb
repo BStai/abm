{
 "cells": [
  {
   "cell_type": "code",
   "execution_count": 4,
   "id": "e90afbcc-3aa6-4ec1-9c44-5c3418448e0e",
   "metadata": {},
   "outputs": [
    {
     "name": "stdout",
     "output_type": "stream",
     "text": [
      "The autoreload extension is already loaded. To reload it, use:\n",
      "  %reload_ext autoreload\n"
     ]
    }
   ],
   "source": [
    "%load_ext autoreload\n",
    "%autoreload 2"
   ]
  },
  {
   "cell_type": "code",
   "execution_count": 5,
   "id": "fbf9a944-c97a-4734-ad7a-728ca8cdbca5",
   "metadata": {},
   "outputs": [],
   "source": [
    "import pandas as pd\n",
    "import mesa\n",
    "from tqdm.notebook import tqdm, trange\n",
    "import src.py.experiment as exp"
   ]
  },
  {
   "cell_type": "code",
   "execution_count": 12,
   "id": "686cb908-3466-4f43-9721-41d728304617",
   "metadata": {},
   "outputs": [],
   "source": [
    "test_config = exp.ExperimentConfig(\"test\")"
   ]
  },
  {
   "cell_type": "code",
   "execution_count": 15,
   "id": "55d3b70b-9140-460a-9843-94948b182546",
   "metadata": {},
   "outputs": [
    {
     "name": "stdout",
     "output_type": "stream",
     "text": [
      "wrote config test_asof_2023-01-02T23:49:20.789591.json\n"
     ]
    }
   ],
   "source": [
    "exp.write_config(test_config)"
   ]
  },
  {
   "cell_type": "code",
   "execution_count": 17,
   "id": "a73f158f-8bb7-4154-a291-2800e59bba87",
   "metadata": {},
   "outputs": [
    {
     "name": "stdout",
     "output_type": "stream",
     "text": [
      "loaded config test_asof_2023-01-02T23:49:20.789591.json\n"
     ]
    },
    {
     "data": {
      "text/plain": [
       "ExperimentConfig(name='test', version=0, carrier_speed_per_tick=3, n_shippers=50, n_carriers=400, width=40, height=10)"
      ]
     },
     "execution_count": 17,
     "metadata": {},
     "output_type": "execute_result"
    }
   ],
   "source": [
    "exp.load_config('test')"
   ]
  },
  {
   "cell_type": "code",
   "execution_count": 20,
   "id": "5c683fdd-7bbc-44d4-813d-086b1e622499",
   "metadata": {
    "tags": []
   },
   "outputs": [],
   "source": [
    "runner = exp.ExperimentRunner()"
   ]
  },
  {
   "cell_type": "code",
   "execution_count": 25,
   "id": "8fc6dfa4-52b1-4701-b030-51a737abb612",
   "metadata": {},
   "outputs": [
    {
     "name": "stdout",
     "output_type": "stream",
     "text": [
      "loaded config test_asof_2023-01-02T23:49:20.789591.json\n"
     ]
    },
    {
     "name": "stderr",
     "output_type": "stream",
     "text": [
      "100%|██████████| 50/50 [00:00<00:00, 234.91it/s]\n"
     ]
    }
   ],
   "source": [
    "runner.run_experiments(config_list=[('test',None)])"
   ]
  },
  {
   "cell_type": "code",
   "execution_count": null,
   "id": "44271120-5919-4384-939d-3dc459e46935",
   "metadata": {},
   "outputs": [],
   "source": []
  }
 ],
 "metadata": {
  "kernelspec": {
   "display_name": "Python 3 (ipykernel)",
   "language": "python",
   "name": "python3"
  },
  "language_info": {
   "codemirror_mode": {
    "name": "ipython",
    "version": 3
   },
   "file_extension": ".py",
   "mimetype": "text/x-python",
   "name": "python",
   "nbconvert_exporter": "python",
   "pygments_lexer": "ipython3",
   "version": "3.10.8"
  }
 },
 "nbformat": 4,
 "nbformat_minor": 5
}
