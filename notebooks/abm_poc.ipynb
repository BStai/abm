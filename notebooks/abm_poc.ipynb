{
  "nbformat": 4,
  "nbformat_minor": 0,
  "metadata": {
    "colab": {
      "provenance": [],
      "authorship_tag": "ABX9TyMCxW+/BvWPSOT6CZOtfiYv",
      "include_colab_link": true
    },
    "kernelspec": {
      "name": "python3",
      "display_name": "Python 3"
    },
    "language_info": {
      "name": "python"
    },
    "widgets": {
      "application/vnd.jupyter.widget-state+json": {
        "1dd6a35f92154eb4b471c0990b89cd35": {
          "model_module": "@jupyter-widgets/controls",
          "model_name": "HBoxModel",
          "model_module_version": "1.5.0",
          "state": {
            "_dom_classes": [],
            "_model_module": "@jupyter-widgets/controls",
            "_model_module_version": "1.5.0",
            "_model_name": "HBoxModel",
            "_view_count": null,
            "_view_module": "@jupyter-widgets/controls",
            "_view_module_version": "1.5.0",
            "_view_name": "HBoxView",
            "box_style": "",
            "children": [
              "IPY_MODEL_a35dd33b04d5418fbaea75e6c8285366",
              "IPY_MODEL_80a149422ec749b2a378bc6662dac271",
              "IPY_MODEL_f40e7d6a639341bfabbc4bae2531b9d8"
            ],
            "layout": "IPY_MODEL_2e0a3d28aa4a496d856af05ec2ecd243"
          }
        },
        "a35dd33b04d5418fbaea75e6c8285366": {
          "model_module": "@jupyter-widgets/controls",
          "model_name": "HTMLModel",
          "model_module_version": "1.5.0",
          "state": {
            "_dom_classes": [],
            "_model_module": "@jupyter-widgets/controls",
            "_model_module_version": "1.5.0",
            "_model_name": "HTMLModel",
            "_view_count": null,
            "_view_module": "@jupyter-widgets/controls",
            "_view_module_version": "1.5.0",
            "_view_name": "HTMLView",
            "description": "",
            "description_tooltip": null,
            "layout": "IPY_MODEL_0e790b6e883d4228849e543604534998",
            "placeholder": "​",
            "style": "IPY_MODEL_d6408bc659944c87bcff23d43de07501",
            "value": "100%"
          }
        },
        "80a149422ec749b2a378bc6662dac271": {
          "model_module": "@jupyter-widgets/controls",
          "model_name": "FloatProgressModel",
          "model_module_version": "1.5.0",
          "state": {
            "_dom_classes": [],
            "_model_module": "@jupyter-widgets/controls",
            "_model_module_version": "1.5.0",
            "_model_name": "FloatProgressModel",
            "_view_count": null,
            "_view_module": "@jupyter-widgets/controls",
            "_view_module_version": "1.5.0",
            "_view_name": "ProgressView",
            "bar_style": "success",
            "description": "",
            "description_tooltip": null,
            "layout": "IPY_MODEL_df6bcfc5c08b4a11852919a0b1b56c7d",
            "max": 500,
            "min": 0,
            "orientation": "horizontal",
            "style": "IPY_MODEL_0ca9e1e6e007401ca67ad43a3b1213c3",
            "value": 500
          }
        },
        "f40e7d6a639341bfabbc4bae2531b9d8": {
          "model_module": "@jupyter-widgets/controls",
          "model_name": "HTMLModel",
          "model_module_version": "1.5.0",
          "state": {
            "_dom_classes": [],
            "_model_module": "@jupyter-widgets/controls",
            "_model_module_version": "1.5.0",
            "_model_name": "HTMLModel",
            "_view_count": null,
            "_view_module": "@jupyter-widgets/controls",
            "_view_module_version": "1.5.0",
            "_view_name": "HTMLView",
            "description": "",
            "description_tooltip": null,
            "layout": "IPY_MODEL_101290b1e7b24a7fbb2f2de6b68fb0bf",
            "placeholder": "​",
            "style": "IPY_MODEL_623287fe4dcb49399727fadcb788015c",
            "value": " 500/500 [00:23&lt;00:00, 11.56it/s]"
          }
        },
        "2e0a3d28aa4a496d856af05ec2ecd243": {
          "model_module": "@jupyter-widgets/base",
          "model_name": "LayoutModel",
          "model_module_version": "1.2.0",
          "state": {
            "_model_module": "@jupyter-widgets/base",
            "_model_module_version": "1.2.0",
            "_model_name": "LayoutModel",
            "_view_count": null,
            "_view_module": "@jupyter-widgets/base",
            "_view_module_version": "1.2.0",
            "_view_name": "LayoutView",
            "align_content": null,
            "align_items": null,
            "align_self": null,
            "border": null,
            "bottom": null,
            "display": null,
            "flex": null,
            "flex_flow": null,
            "grid_area": null,
            "grid_auto_columns": null,
            "grid_auto_flow": null,
            "grid_auto_rows": null,
            "grid_column": null,
            "grid_gap": null,
            "grid_row": null,
            "grid_template_areas": null,
            "grid_template_columns": null,
            "grid_template_rows": null,
            "height": null,
            "justify_content": null,
            "justify_items": null,
            "left": null,
            "margin": null,
            "max_height": null,
            "max_width": null,
            "min_height": null,
            "min_width": null,
            "object_fit": null,
            "object_position": null,
            "order": null,
            "overflow": null,
            "overflow_x": null,
            "overflow_y": null,
            "padding": null,
            "right": null,
            "top": null,
            "visibility": null,
            "width": null
          }
        },
        "0e790b6e883d4228849e543604534998": {
          "model_module": "@jupyter-widgets/base",
          "model_name": "LayoutModel",
          "model_module_version": "1.2.0",
          "state": {
            "_model_module": "@jupyter-widgets/base",
            "_model_module_version": "1.2.0",
            "_model_name": "LayoutModel",
            "_view_count": null,
            "_view_module": "@jupyter-widgets/base",
            "_view_module_version": "1.2.0",
            "_view_name": "LayoutView",
            "align_content": null,
            "align_items": null,
            "align_self": null,
            "border": null,
            "bottom": null,
            "display": null,
            "flex": null,
            "flex_flow": null,
            "grid_area": null,
            "grid_auto_columns": null,
            "grid_auto_flow": null,
            "grid_auto_rows": null,
            "grid_column": null,
            "grid_gap": null,
            "grid_row": null,
            "grid_template_areas": null,
            "grid_template_columns": null,
            "grid_template_rows": null,
            "height": null,
            "justify_content": null,
            "justify_items": null,
            "left": null,
            "margin": null,
            "max_height": null,
            "max_width": null,
            "min_height": null,
            "min_width": null,
            "object_fit": null,
            "object_position": null,
            "order": null,
            "overflow": null,
            "overflow_x": null,
            "overflow_y": null,
            "padding": null,
            "right": null,
            "top": null,
            "visibility": null,
            "width": null
          }
        },
        "d6408bc659944c87bcff23d43de07501": {
          "model_module": "@jupyter-widgets/controls",
          "model_name": "DescriptionStyleModel",
          "model_module_version": "1.5.0",
          "state": {
            "_model_module": "@jupyter-widgets/controls",
            "_model_module_version": "1.5.0",
            "_model_name": "DescriptionStyleModel",
            "_view_count": null,
            "_view_module": "@jupyter-widgets/base",
            "_view_module_version": "1.2.0",
            "_view_name": "StyleView",
            "description_width": ""
          }
        },
        "df6bcfc5c08b4a11852919a0b1b56c7d": {
          "model_module": "@jupyter-widgets/base",
          "model_name": "LayoutModel",
          "model_module_version": "1.2.0",
          "state": {
            "_model_module": "@jupyter-widgets/base",
            "_model_module_version": "1.2.0",
            "_model_name": "LayoutModel",
            "_view_count": null,
            "_view_module": "@jupyter-widgets/base",
            "_view_module_version": "1.2.0",
            "_view_name": "LayoutView",
            "align_content": null,
            "align_items": null,
            "align_self": null,
            "border": null,
            "bottom": null,
            "display": null,
            "flex": null,
            "flex_flow": null,
            "grid_area": null,
            "grid_auto_columns": null,
            "grid_auto_flow": null,
            "grid_auto_rows": null,
            "grid_column": null,
            "grid_gap": null,
            "grid_row": null,
            "grid_template_areas": null,
            "grid_template_columns": null,
            "grid_template_rows": null,
            "height": null,
            "justify_content": null,
            "justify_items": null,
            "left": null,
            "margin": null,
            "max_height": null,
            "max_width": null,
            "min_height": null,
            "min_width": null,
            "object_fit": null,
            "object_position": null,
            "order": null,
            "overflow": null,
            "overflow_x": null,
            "overflow_y": null,
            "padding": null,
            "right": null,
            "top": null,
            "visibility": null,
            "width": null
          }
        },
        "0ca9e1e6e007401ca67ad43a3b1213c3": {
          "model_module": "@jupyter-widgets/controls",
          "model_name": "ProgressStyleModel",
          "model_module_version": "1.5.0",
          "state": {
            "_model_module": "@jupyter-widgets/controls",
            "_model_module_version": "1.5.0",
            "_model_name": "ProgressStyleModel",
            "_view_count": null,
            "_view_module": "@jupyter-widgets/base",
            "_view_module_version": "1.2.0",
            "_view_name": "StyleView",
            "bar_color": null,
            "description_width": ""
          }
        },
        "101290b1e7b24a7fbb2f2de6b68fb0bf": {
          "model_module": "@jupyter-widgets/base",
          "model_name": "LayoutModel",
          "model_module_version": "1.2.0",
          "state": {
            "_model_module": "@jupyter-widgets/base",
            "_model_module_version": "1.2.0",
            "_model_name": "LayoutModel",
            "_view_count": null,
            "_view_module": "@jupyter-widgets/base",
            "_view_module_version": "1.2.0",
            "_view_name": "LayoutView",
            "align_content": null,
            "align_items": null,
            "align_self": null,
            "border": null,
            "bottom": null,
            "display": null,
            "flex": null,
            "flex_flow": null,
            "grid_area": null,
            "grid_auto_columns": null,
            "grid_auto_flow": null,
            "grid_auto_rows": null,
            "grid_column": null,
            "grid_gap": null,
            "grid_row": null,
            "grid_template_areas": null,
            "grid_template_columns": null,
            "grid_template_rows": null,
            "height": null,
            "justify_content": null,
            "justify_items": null,
            "left": null,
            "margin": null,
            "max_height": null,
            "max_width": null,
            "min_height": null,
            "min_width": null,
            "object_fit": null,
            "object_position": null,
            "order": null,
            "overflow": null,
            "overflow_x": null,
            "overflow_y": null,
            "padding": null,
            "right": null,
            "top": null,
            "visibility": null,
            "width": null
          }
        },
        "623287fe4dcb49399727fadcb788015c": {
          "model_module": "@jupyter-widgets/controls",
          "model_name": "DescriptionStyleModel",
          "model_module_version": "1.5.0",
          "state": {
            "_model_module": "@jupyter-widgets/controls",
            "_model_module_version": "1.5.0",
            "_model_name": "DescriptionStyleModel",
            "_view_count": null,
            "_view_module": "@jupyter-widgets/base",
            "_view_module_version": "1.2.0",
            "_view_name": "StyleView",
            "description_width": ""
          }
        }
      }
    }
  },
  "cells": [
    {
      "cell_type": "markdown",
      "metadata": {
        "id": "view-in-github",
        "colab_type": "text"
      },
      "source": [
        "<a href=\"https://colab.research.google.com/github/BStai/abm/blob/main/notebooks/abm_poc.ipynb\" target=\"_parent\"><img src=\"https://colab.research.google.com/assets/colab-badge.svg\" alt=\"Open In Colab\"/></a>"
      ]
    },
    {
      "cell_type": "code",
      "execution_count": 2,
      "metadata": {
        "colab": {
          "base_uri": "https://localhost:8080/"
        },
        "id": "3Vdcuo-qlpT2",
        "outputId": "72c21059-4701-4ff9-b7c2-82e2007b5e95"
      },
      "outputs": [
        {
          "output_type": "stream",
          "name": "stdout",
          "text": [
            "Looking in indexes: https://pypi.org/simple, https://us-python.pkg.dev/colab-wheels/public/simple/\n",
            "Collecting mesa\n",
            "  Downloading Mesa-1.1.1-py3-none-any.whl (1.8 MB)\n",
            "\u001b[K     |████████████████████████████████| 1.8 MB 6.5 MB/s \n",
            "\u001b[?25hCollecting StrEnum\n",
            "  Downloading StrEnum-0.4.9-py3-none-any.whl (7.6 kB)\n",
            "Requirement already satisfied: tornado in /usr/local/lib/python3.8/dist-packages (from mesa) (6.0.4)\n",
            "Requirement already satisfied: networkx in /usr/local/lib/python3.8/dist-packages (from mesa) (2.8.8)\n",
            "Requirement already satisfied: tqdm in /usr/local/lib/python3.8/dist-packages (from mesa) (4.64.1)\n",
            "Collecting cookiecutter\n",
            "  Downloading cookiecutter-2.1.1-py2.py3-none-any.whl (36 kB)\n",
            "Requirement already satisfied: click in /usr/local/lib/python3.8/dist-packages (from mesa) (7.1.2)\n",
            "Requirement already satisfied: numpy in /usr/local/lib/python3.8/dist-packages (from mesa) (1.21.6)\n",
            "Requirement already satisfied: pandas in /usr/local/lib/python3.8/dist-packages (from mesa) (1.3.5)\n",
            "Requirement already satisfied: Jinja2<4.0.0,>=2.7 in /usr/local/lib/python3.8/dist-packages (from cookiecutter->mesa) (2.11.3)\n",
            "Requirement already satisfied: python-slugify>=4.0.0 in /usr/local/lib/python3.8/dist-packages (from cookiecutter->mesa) (7.0.0)\n",
            "Collecting binaryornot>=0.4.4\n",
            "  Downloading binaryornot-0.4.4-py2.py3-none-any.whl (9.0 kB)\n",
            "Collecting jinja2-time>=0.2.0\n",
            "  Downloading jinja2_time-0.2.0-py2.py3-none-any.whl (6.4 kB)\n",
            "Requirement already satisfied: pyyaml>=5.3.1 in /usr/local/lib/python3.8/dist-packages (from cookiecutter->mesa) (6.0)\n",
            "Requirement already satisfied: requests>=2.23.0 in /usr/local/lib/python3.8/dist-packages (from cookiecutter->mesa) (2.23.0)\n",
            "Requirement already satisfied: chardet>=3.0.2 in /usr/local/lib/python3.8/dist-packages (from binaryornot>=0.4.4->cookiecutter->mesa) (3.0.4)\n",
            "Requirement already satisfied: MarkupSafe>=0.23 in /usr/local/lib/python3.8/dist-packages (from Jinja2<4.0.0,>=2.7->cookiecutter->mesa) (2.0.1)\n",
            "Collecting arrow\n",
            "  Downloading arrow-1.2.3-py3-none-any.whl (66 kB)\n",
            "\u001b[K     |████████████████████████████████| 66 kB 5.5 MB/s \n",
            "\u001b[?25hRequirement already satisfied: text-unidecode>=1.3 in /usr/local/lib/python3.8/dist-packages (from python-slugify>=4.0.0->cookiecutter->mesa) (1.3)\n",
            "Requirement already satisfied: certifi>=2017.4.17 in /usr/local/lib/python3.8/dist-packages (from requests>=2.23.0->cookiecutter->mesa) (2022.12.7)\n",
            "Requirement already satisfied: idna<3,>=2.5 in /usr/local/lib/python3.8/dist-packages (from requests>=2.23.0->cookiecutter->mesa) (2.10)\n",
            "Requirement already satisfied: urllib3!=1.25.0,!=1.25.1,<1.26,>=1.21.1 in /usr/local/lib/python3.8/dist-packages (from requests>=2.23.0->cookiecutter->mesa) (1.24.3)\n",
            "Requirement already satisfied: python-dateutil>=2.7.0 in /usr/local/lib/python3.8/dist-packages (from arrow->jinja2-time>=0.2.0->cookiecutter->mesa) (2.8.2)\n",
            "Requirement already satisfied: six>=1.5 in /usr/local/lib/python3.8/dist-packages (from python-dateutil>=2.7.0->arrow->jinja2-time>=0.2.0->cookiecutter->mesa) (1.15.0)\n",
            "Requirement already satisfied: pytz>=2017.3 in /usr/local/lib/python3.8/dist-packages (from pandas->mesa) (2022.6)\n",
            "Installing collected packages: arrow, jinja2-time, binaryornot, cookiecutter, StrEnum, mesa\n",
            "Successfully installed StrEnum-0.4.9 arrow-1.2.3 binaryornot-0.4.4 cookiecutter-2.1.1 jinja2-time-0.2.0 mesa-1.1.1\n"
          ]
        },
        {
          "output_type": "execute_result",
          "data": {
            "text/plain": []
          },
          "metadata": {},
          "execution_count": 2
        }
      ],
      "source": [
        "%%shell\n",
        "pip install mesa StrEnum"
      ]
    },
    {
      "cell_type": "code",
      "source": [
        "import mesa\n",
        "from typing import Tuple, List, Optional, Iterable\n",
        "from dataclasses import dataclass\n",
        "from enum import Enum\n",
        "from strenum import StrEnum\n",
        "import pandas as pd\n",
        "from collections import Counter, defaultdict\n",
        "from tqdm.notebook import tqdm, trange"
      ],
      "metadata": {
        "id": "7D2UlvrCpM5Q"
      },
      "execution_count": 354,
      "outputs": []
    },
    {
      "cell_type": "code",
      "source": [
        "# Utilities and global config\n",
        "CARRIER_SPEED_PER_TICK = 3\n",
        "\n",
        "def ceildiv(a, b):\n",
        "  return -(a // -b)\n",
        "\n",
        "def floordiv(a,b):\n",
        "  return a // b\n",
        "\n",
        "def chebychev_dist(start,end):\n",
        "  return max(abs(a-b) for a, b in zip(start,end))"
      ],
      "metadata": {
        "id": "DHXuedQRZ88e"
      },
      "execution_count": 273,
      "outputs": []
    },
    {
      "cell_type": "code",
      "source": [
        "# Load class\n",
        "class Load():\n",
        "  \"\"\"Class for simulated loads.\"\"\"\n",
        "\n",
        "  def __init__(self,  \n",
        "               load_id: str,\n",
        "               o: mesa.space.Position,\n",
        "               d: mesa.space.Position,\n",
        "               planned_tick: int, # scheduled \"activity date\"\n",
        "               rate: Optional[int] = None\n",
        "              ) -> None:\n",
        "      self.load_id = load_id\n",
        "      self.o = o\n",
        "      self.d = d\n",
        "      self.rate = rate\n",
        "      self.planned_tick = planned_tick\n",
        "      self.roll_count = 0\n",
        "      self.is_booked = False\n",
        "      self.is_picked = False\n",
        "      self.is_dropped = False\n",
        "  \n",
        "  def __repr__(self):\n",
        "    return f'''{self.load_id} OD[{self.o}{self.d}] @{self.planned_tick}-{self.get_drop_tick()}(+{self.roll_count}) ${self.rate} bpd[{int(self.is_booked)}{int(self.is_picked)}{int(self.is_dropped)}]'''\n",
        "\n",
        "  def get_distance(self) -> int:\n",
        "    \"\"\"Get Chebyshev distance\"\"\"\n",
        "    return chebychev_dist(self.o,self.d)\n",
        "\n",
        "  def get_transit_time(self) -> int:\n",
        "    \"\"\"Get number of ticks expected to move\"\"\"\n",
        "    dist = self.get_distance()\n",
        "    required_ticks = ceildiv(dist, CARRIER_SPEED_PER_TICK)\n",
        "    return required_ticks\n",
        "\n",
        "  def get_drop_tick(self) -> int:\n",
        "    \"\"\"Get the tick the load will be dropped\"\"\"\n",
        "    return self.planned_tick + self.get_transit_time()\n",
        "\n",
        "  def get_rate_per(self) -> float:\n",
        "    \"\"\"get rate divided by distance\"\"\"\n",
        "    return self.rate / self.get_distance()\n",
        "\n",
        "  def book_load(self) -> None:\n",
        "    \"\"\"mark load as booked\"\"\"\n",
        "    self.is_booked = True\n",
        "\n",
        "  def update_load_state(self, current_tick: int) -> None:\n",
        "    \"\"\"auto update load, assuming no same-day booking\"\"\"\n",
        "    if not self.is_booked and current_tick >= self.planned_tick:\n",
        "      # need to roll forward another day\n",
        "      self.planned_tick += 1\n",
        "      self.roll_count += 1\n",
        "      return\n",
        "    \n",
        "    if self.is_booked and current_tick < self.planned_tick:\n",
        "      # state is waiting on pick, don't need to do anything\n",
        "      return\n",
        "    \n",
        "    if self.is_booked and current_tick == self.planned_tick:\n",
        "      # reached pick tick\n",
        "      self.is_picked = True\n",
        "      return\n",
        "    \n",
        "    if self.is_picked and current_tick >= self.get_drop_tick():\n",
        "      # reached drop tick\n",
        "      self.is_dropped = True\n",
        "      return\n"
      ],
      "metadata": {
        "id": "1SmiE1YpaBah"
      },
      "execution_count": 274,
      "outputs": []
    },
    {
      "cell_type": "code",
      "source": [
        "\n",
        "class FreightMarketModel(mesa.Model):\n",
        "    \"\"\"Freight market model.\"\"\"\n",
        "\n",
        "    def __init__(self, n_shippers: int, n_carriers: int, width:int, height: int) -> None:\n",
        "        self.n_shippers = n_shippers\n",
        "        self.n_carriers = n_carriers\n",
        "        self.carrier_grid = mesa.space.MultiGrid(width, height, torus=False)\n",
        "        self.load_grid = mesa.space.MultiGrid(width, height, torus=False)\n",
        "        self.schedule = mesa.time.RandomActivationByType(self)\n",
        "        self.current_tick = 0\n",
        "\n",
        "        # Create agents\n",
        "        for i in range(self.n_shippers):\n",
        "            a = ShipperAgent(i, self)\n",
        "            self.schedule.add(a)\n",
        "            #shippers don't have single location\n",
        "\n",
        "        for i in range(self.n_shippers,self.n_shippers+self.n_carriers):\n",
        "            a = CarrierAgent(unique_id= i, model= self, pos=None)\n",
        "            self.schedule.add(a)\n",
        "            # Add the agent to a random grid cell\n",
        "            x = self.random.randrange(self.carrier_grid.width)\n",
        "            y = self.random.randrange(self.carrier_grid.height)\n",
        "            self.carrier_grid.place_agent(a, (x, y))\n",
        "        \n",
        "        # set up datacollector\n",
        "        self.datacollector = mesa.DataCollector(\n",
        "            # model_reporters={\"Gini\": compute_gini}, agent_reporters={\"Wealth\": \"wealth\"}\n",
        "            model_reporters={\"N_Loads\": count_unbooked_loads, \"N_Carriers\": count_available_carriers,\n",
        "                             \"unbooked_roll_total\": total_rolls_unbooked, \"Carrier_States\": count_carrier_states, }\n",
        "        )\n",
        "\n",
        "    def __repr__(self):\n",
        "      return f\"M@{self.current_tick}\"\n",
        "\n",
        "    def get_loads_available_to_book():\n",
        "      \"\"\"get full list of all avaliable loads\"\"\"\n",
        "      pass\n",
        "\n",
        "\n",
        "    def step(self):\n",
        "      # don't shuffle types - shippers go first\n",
        "      self.schedule.step(shuffle_types=False, shuffle_agents=True)\n",
        "      self.datacollector.collect(self)\n",
        "      self.current_tick += 1\n",
        "\n",
        "def count_unbooked_loads(model: FreightMarketModel) -> int:\n",
        "  return len([l for loads,_,_ in model.load_grid.coord_iter() for l in loads])\n",
        "\n",
        "def count_available_carriers(model: FreightMarketModel) -> int:\n",
        "  return len([c for carriers,_,_ in model.carrier_grid.coord_iter() for c in carriers])\n",
        "\n",
        "def count_carrier_states(model: FreightMarketModel):\n",
        "  return Counter((c.status.name for c in model.schedule.agents_by_type[CarrierAgent].values()))\n",
        "\n",
        "def total_rolls_unbooked(model: FreightMarketModel):\n",
        "  return sum((l.roll_count for loads,_,_ in model.load_grid.coord_iter() for l in loads))\n",
        "\n",
        "#other metrics to track\n",
        "# number of carriers in each state - deadheading, searching, in transit\n",
        "# distribution of load states and rolls?\n"
      ],
      "metadata": {
        "id": "FrJ-p8LXl9TT"
      },
      "execution_count": 344,
      "outputs": []
    },
    {
      "cell_type": "code",
      "source": [
        "# Carrier Agent\n",
        "class CarrierStatus(StrEnum):\n",
        "  SEARCHING = \"Searching for any load\"\n",
        "  DEADHEADING = \"Traveling to next booked load\"\n",
        "  IN_TRANSIT = \"Carrying load\"\n",
        "\n",
        "class CarrierAgent(mesa.Agent):\n",
        "    \"\"\"An agent simulating a carrier.\"\"\"\n",
        "\n",
        "    def __init__(self, unique_id: int, model: mesa.Model, pos: mesa.space.Position) -> None:\n",
        "        super().__init__(unique_id, model)\n",
        "        self.money = 0 #TODO make some kind of budgeting\n",
        "        self.loads_moved: int = 0\n",
        "        self.pos = pos\n",
        "        self.load_queue: List[Load] = []\n",
        "        self.current_load: Optional[Load] = None\n",
        "        self.status = CarrierStatus.SEARCHING\n",
        "\n",
        "    def __repr__(self):\n",
        "      return f'C_{self.unique_id}'\n",
        "\n",
        "    def can_pick_on_time(self, load: Load) -> bool:\n",
        "      \"\"\" evaluate if agent is able to reach load by activity date\"\"\"\n",
        "      if self.current_load:\n",
        "        t = self.current_load.get_drop_tick()\n",
        "        pos = self.current_load.d\n",
        "      else:\n",
        "        t = self.model.current_tick\n",
        "        pos = self.pos\n",
        "\n",
        "      n_ticks_to_pick = load.planned_tick - t\n",
        "      return CARRIER_SPEED_PER_TICK * n_ticks_to_pick >= chebychev_dist(pos, load.o)\n",
        "\n",
        "    def does_not_conflict_with_current(self, load: Load) -> bool:\n",
        "      \"\"\"check that a load does not conflict with current \"\"\"\n",
        "      # this isn't gonna apply when booking more than one out\n",
        "      if self.current_load is None:\n",
        "        return True\n",
        "      return load.planned_tick > self.current_load.get_drop_tick()\n",
        "\n",
        "    def search_pos_for_load(self, pos: mesa.space.Position):\n",
        "       search_neighborhood = self.model.load_grid.get_neighborhood(\n",
        "              pos=pos, moore=True, include_center=True, radius=1)\n",
        "       load_list = self.model.load_grid.get_cell_list_contents(search_neighborhood) \n",
        "       return load_list\n",
        "\n",
        "    def add_to_load_queue(self) -> None:\n",
        "      \"\"\"search for available loads and book\"\"\"\n",
        "    \n",
        "      if len(self.load_queue) == 0: # start with only searching for the next load when none booked\n",
        "        # if no current load - search by current position\n",
        "        if self.current_load is None:\n",
        "          load_list = self.search_pos_for_load(self.pos)\n",
        "        else:\n",
        "          load_list = self.search_pos_for_load(self.current_load.d)\n",
        "        # if current load - search from drop position\n",
        "        if len(load_list) == 0:\n",
        "          return\n",
        "        # filter to ones that can handle \n",
        "        load_list = [l for l in load_list if \n",
        "                     l is not None and\n",
        "                     self.can_pick_on_time(l) and\n",
        "                     self.does_not_conflict_with_current(l)\n",
        "                     ]\n",
        "        if len(load_list) > 0 :\n",
        "          selected_load = self.random.choice(load_list)\n",
        "        else:\n",
        "          return\n",
        "      \n",
        "        # book load and add to queue\n",
        "        selected_load.book_load()\n",
        "        self.model.load_grid.remove_agent(selected_load) # shippers put loads on load grid, carriers remove on booking\n",
        "        self.load_queue.append(selected_load)\n",
        "\n",
        "\n",
        "    def handle_current_load(self):\n",
        "      # take one off the load queue if not currently processing\n",
        "      if not self.current_load:\n",
        "        if len(self.load_queue) > 0:\n",
        "          self.current_load = self.load_queue.pop(0)\n",
        "          self.model.carrier_grid.remove_agent(self)\n",
        "        else:\n",
        "          self.status = CarrierStatus.SEARCHING # should already be set anyways\n",
        "          return # no load to handle\n",
        "      \n",
        "      # if have a current load\n",
        "      if self.current_load.planned_tick > self.model.current_tick:\n",
        "        self.status = CarrierStatus.DEADHEADING\n",
        "      elif ((self.current_load.planned_tick <= self.model.current_tick) and\n",
        "            (self.current_load.get_drop_tick() > self.model.current_tick)\n",
        "        ):\n",
        "        self.status = CarrierStatus.IN_TRANSIT\n",
        "      else:\n",
        "        # current load has been delivered\n",
        "        self.loads_moved += 1\n",
        "        self.money += self.current_load.rate\n",
        "\n",
        "        if len(self.load_queue) == 0:\n",
        "          self.model.carrier_grid.place_agent(self, self.current_load.d)\n",
        "          self.current_load = None\n",
        "          self.status = CarrierStatus.SEARCHING\n",
        "        else:\n",
        "          # set next up in load queue as current load\n",
        "          self.current_load = self.load_queue.pop(0)\n",
        "          self.status = CarrierStatus.DEADHEADING\n",
        "\n",
        "\n",
        "\n",
        "    def move_while_searching(self):\n",
        "      # should berandom walk\n",
        "      # for now just stay put. Very boring carrier\n",
        "      pass\n",
        "\n",
        "\n",
        "    def step(self):\n",
        "      self.add_to_load_queue()\n",
        "      self.handle_current_load()\n",
        "      if self.status == CarrierStatus.SEARCHING:\n",
        "        self.move_while_searching()"
      ],
      "metadata": {
        "id": "DM8ED4i4ab-N"
      },
      "execution_count": 276,
      "outputs": []
    },
    {
      "cell_type": "code",
      "source": [
        "# Shipper Agent \n",
        "\n",
        "class ShipperAgent(mesa.Agent):\n",
        "  \"\"\"An agent simulating a shipper.\"\"\"\n",
        "\n",
        "  def __init__(self, unique_id: int, model: FreightMarketModel) -> None:\n",
        "      super().__init__(unique_id, model)\n",
        "      self.loads: List[Load] = []\n",
        "  \n",
        "  def get_rate(self, load: Load):\n",
        "    \"\"\"pick a rate to put on a load\"\"\"\n",
        "    dist = load.get_distance()\n",
        "    rate = 3 * dist #fixed rate per distance to start\n",
        "    return rate\n",
        "\n",
        "  def spawn_loads(self, current_tick: int) -> None:\n",
        "    \"\"\"Spawn new loads.\"\"\"\n",
        "    #spawn on load to start \n",
        "    #cap number of unbooked loads \n",
        "    if len(self.get_unbooked_loads()) >= 50:\n",
        "      return \n",
        "\n",
        "    #id is \"shipper id_tick spawned_n\"\n",
        "    load_id = str(self.unique_id) + \"_\" +  str(self.model.current_tick) + \"_0\"\n",
        "    w = self.model.load_grid.width\n",
        "    h = self.model.load_grid.height\n",
        "    o = self.random.randrange(w), self.random.randrange(h)\n",
        "    d = self.random.randrange(w), self.random.randrange(h)\n",
        "    planned_tick = current_tick + 3 # start with making all new loads 3 ticks out\n",
        "    load = Load(load_id=load_id, o = o, d = d, planned_tick=planned_tick)\n",
        "    load.rate = self.get_rate(load)\n",
        "\n",
        "    self.loads.append(load)\n",
        "    self.model.load_grid.place_agent(load, load.o) # shippers put loads on load grid, carriers remove on booking\n",
        "\n",
        "  def manage_loads(self, current_tick: int) -> None:\n",
        "    \"\"\"Update loads\"\"\"\n",
        "    for load in self.loads:\n",
        "      load.update_load_state(current_tick)\n",
        "    # eventually do some sort of rate adjustments here\n",
        "\n",
        "  def step(self):\n",
        "    self.spawn_loads(self.model.current_tick)\n",
        "    self.manage_loads(self.model.current_tick)\n",
        "\n",
        "  def get_unbooked_loads(self) -> List[Load]:\n",
        "    return [x for x in self.loads if not x.is_booked]\n"
      ],
      "metadata": {
        "id": "lRHtFgL8aUnF"
      },
      "execution_count": 291,
      "outputs": []
    },
    {
      "cell_type": "code",
      "source": [
        "model = FreightMarketModel(n_shippers=50,n_carriers=400, width=40, height=10)\n",
        "for i in trange(500):\n",
        "    model.step()"
      ],
      "metadata": {
        "colab": {
          "base_uri": "https://localhost:8080/",
          "height": 49,
          "referenced_widgets": [
            "1dd6a35f92154eb4b471c0990b89cd35",
            "a35dd33b04d5418fbaea75e6c8285366",
            "80a149422ec749b2a378bc6662dac271",
            "f40e7d6a639341bfabbc4bae2531b9d8",
            "2e0a3d28aa4a496d856af05ec2ecd243",
            "0e790b6e883d4228849e543604534998",
            "d6408bc659944c87bcff23d43de07501",
            "df6bcfc5c08b4a11852919a0b1b56c7d",
            "0ca9e1e6e007401ca67ad43a3b1213c3",
            "101290b1e7b24a7fbb2f2de6b68fb0bf",
            "623287fe4dcb49399727fadcb788015c"
          ]
        },
        "id": "3ccgsExvcUe2",
        "outputId": "4d753f47-250b-4356-a609-deeeb24c508d"
      },
      "execution_count": 409,
      "outputs": [
        {
          "output_type": "display_data",
          "data": {
            "text/plain": [
              "  0%|          | 0/500 [00:00<?, ?it/s]"
            ],
            "application/vnd.jupyter.widget-view+json": {
              "version_major": 2,
              "version_minor": 0,
              "model_id": "1dd6a35f92154eb4b471c0990b89cd35"
            }
          },
          "metadata": {}
        }
      ]
    },
    {
      "cell_type": "code",
      "source": [
        "tmp = model.datacollector.get_model_vars_dataframe()\n",
        "tmp = pd.concat([ tmp['Carrier_States'].apply(pd.Series),tmp.drop(['Carrier_States'], axis=1)], axis=1)\n",
        "tmp['avg_n_rolls_per_load'] = tmp['unbooked_roll_total'] / tmp['N_Loads']\n",
        "tmp = tmp.drop(['unbooked_roll_total','N_Carriers'], axis=1)\n",
        "tmp.plot(figsize=(20,5))"
      ],
      "metadata": {
        "colab": {
          "base_uri": "https://localhost:8080/",
          "height": 340
        },
        "id": "rH4iywC7cYjN",
        "outputId": "b8edc9a1-b554-4215-a5ae-4a70fd0538b5"
      },
      "execution_count": 410,
      "outputs": [
        {
          "output_type": "execute_result",
          "data": {
            "text/plain": [
              "<matplotlib.axes._subplots.AxesSubplot at 0x7f5a5aa83280>"
            ]
          },
          "metadata": {},
          "execution_count": 410
        },
        {
          "output_type": "display_data",
          "data": {
            "text/plain": [
              "<Figure size 1440x360 with 1 Axes>"
            ],
            "image/png": "[encoded data removed]"
          },
          "metadata": {
            "needs_background": "light"
          }
        }
      ]
    },
    {
      "cell_type": "markdown",
      "source": [
        "Questions\n",
        "- What ratio of cells, n_shippers, n_carriers, load spawn rate, carrier search radius etc corresponds to different ratios of carrier state, and unbooked load counts?\n",
        "- "
      ],
      "metadata": {
        "id": "CppSrSa49uMf"
      }
    },
    {
      "cell_type": "code",
      "source": [
        "tmp['avg_n_rolls_per_load'].plot.hist()\n",
        "# Interesting. Exponential distribution of avg roll count by tick. - when loads don't accumulate to max\n",
        "# no distinguishing features of loads that would make one \"hard to ship\"\n",
        "# no geographic preference for loads occuring in any one place"
      ],
      "metadata": {
        "colab": {
          "base_uri": "https://localhost:8080/",
          "height": 283
        },
        "id": "_uK0gmSSmap9",
        "outputId": "34c7fb83-c006-4cbd-acac-d5998b3ce68f"
      },
      "execution_count": 411,
      "outputs": [
        {
          "output_type": "execute_result",
          "data": {
            "text/plain": [
              "<matplotlib.axes._subplots.AxesSubplot at 0x7f5a5a36e5e0>"
            ]
          },
          "metadata": {},
          "execution_count": 411
        },
        {
          "output_type": "display_data",
          "data": {
            "text/plain": [
              "<Figure size 432x288 with 1 Axes>"
            ],
            "image/png": "[encoded data removed]"
          },
          "metadata": {
            "needs_background": "light"
          }
        }
      ]
    },
    {
      "cell_type": "code",
      "source": [
        "tmp['N_Loads'].plot.hist()\n",
        "# generally the same"
      ],
      "metadata": {
        "colab": {
          "base_uri": "https://localhost:8080/",
          "height": 283
        },
        "id": "yc8WU5OMuEo4",
        "outputId": "681c593e-3a98-43a0-9e2b-b2f759195cea"
      },
      "execution_count": 412,
      "outputs": [
        {
          "output_type": "execute_result",
          "data": {
            "text/plain": [
              "<matplotlib.axes._subplots.AxesSubplot at 0x7f5a5e692670>"
            ]
          },
          "metadata": {},
          "execution_count": 412
        },
        {
          "output_type": "display_data",
          "data": {
            "text/plain": [
              "<Figure size 432x288 with 1 Axes>"
            ],
            "image/png": "[encoded data removed]"
          },
          "metadata": {
            "needs_background": "light"
          }
        }
      ]
    },
    {
      "cell_type": "code",
      "source": [
        "gdf = pd.DataFrame([(c.loads_moved, c.money) for c in model.schedule.agents_by_type[CarrierAgent].values()],\n",
        "                   columns=['loads_moved','rev'])\n",
        "df.plot.scatter(x=\"loads_moved\",y=\"rev\")"
      ],
      "metadata": {
        "colab": {
          "base_uri": "https://localhost:8080/",
          "height": 302
        },
        "id": "6OXOwhE0eMGi",
        "outputId": "d524d3c5-f301-42b0-f390-98059dafbad2"
      },
      "execution_count": 413,
      "outputs": [
        {
          "output_type": "execute_result",
          "data": {
            "text/plain": [
              "<matplotlib.axes._subplots.AxesSubplot at 0x7f5a5f11aa90>"
            ]
          },
          "metadata": {},
          "execution_count": 413
        },
        {
          "output_type": "display_data",
          "data": {
            "text/plain": [
              "<Figure size 432x288 with 1 Axes>"
            ],
            "image/png": "[encoded data removed]"
          },
          "metadata": {
            "needs_background": "light"
          }
        }
      ]
    },
    {
      "cell_type": "code",
      "source": [
        "df.loads_moved.plot.hist()\n",
        "# ok so the loads moved looks pretty normally distributed\n",
        "# maaaybe a little skewed on the right tail?"
      ],
      "metadata": {
        "colab": {
          "base_uri": "https://localhost:8080/",
          "height": 283
        },
        "id": "aabJJhH8g3R8",
        "outputId": "24e7a820-1bfd-4954-e20c-0ac66f451050"
      },
      "execution_count": 414,
      "outputs": [
        {
          "output_type": "execute_result",
          "data": {
            "text/plain": [
              "<matplotlib.axes._subplots.AxesSubplot at 0x7f5a5d93c820>"
            ]
          },
          "metadata": {},
          "execution_count": 414
        },
        {
          "output_type": "display_data",
          "data": {
            "text/plain": [
              "<Figure size 432x288 with 1 Axes>"
            ],
            "image/png": "[encoded data removed]"
          },
          "metadata": {
            "needs_background": "light"
          }
        }
      ]
    },
    {
      "cell_type": "markdown",
      "source": [],
      "metadata": {
        "id": "IJHvYTERpJi8"
      }
    }
  ]
}